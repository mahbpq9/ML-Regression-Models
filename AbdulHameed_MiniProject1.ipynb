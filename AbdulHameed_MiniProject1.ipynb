{
 "cells": [
  {
   "cell_type": "markdown",
   "id": "ae4d429c",
   "metadata": {},
   "source": [
    "# --------------------------------------Prediction of Store Sales--------------------------------------"
   ]
  },
  {
   "cell_type": "code",
   "execution_count": 1,
   "id": "7860d60e",
   "metadata": {},
   "outputs": [],
   "source": [
    "import warnings\n",
    "warnings.simplefilter(action='ignore')"
   ]
  },
  {
   "cell_type": "markdown",
   "id": "ba8e0af9",
   "metadata": {},
   "source": [
    "# • Loading the data"
   ]
  },
  {
   "cell_type": "code",
   "execution_count": 2,
   "id": "33febb81",
   "metadata": {},
   "outputs": [
    {
     "data": {
      "text/html": [
       "<div>\n",
       "<style scoped>\n",
       "    .dataframe tbody tr th:only-of-type {\n",
       "        vertical-align: middle;\n",
       "    }\n",
       "\n",
       "    .dataframe tbody tr th {\n",
       "        vertical-align: top;\n",
       "    }\n",
       "\n",
       "    .dataframe thead th {\n",
       "        text-align: right;\n",
       "    }\n",
       "</style>\n",
       "<table border=\"1\" class=\"dataframe\">\n",
       "  <thead>\n",
       "    <tr style=\"text-align: right;\">\n",
       "      <th></th>\n",
       "      <th>Item_Identifier</th>\n",
       "      <th>Item_Weight</th>\n",
       "      <th>Item_Fat_Content</th>\n",
       "      <th>Item_Visibility</th>\n",
       "      <th>Item_Type</th>\n",
       "      <th>Item_MRP</th>\n",
       "      <th>Outlet_Identifier</th>\n",
       "      <th>Outlet_Establishment_Year</th>\n",
       "      <th>Outlet_Size</th>\n",
       "      <th>Outlet_Location_Type</th>\n",
       "      <th>Outlet_Type</th>\n",
       "      <th>Item_Outlet_Sales</th>\n",
       "    </tr>\n",
       "  </thead>\n",
       "  <tbody>\n",
       "    <tr>\n",
       "      <th>0</th>\n",
       "      <td>FDA15</td>\n",
       "      <td>9.30</td>\n",
       "      <td>Low Fat</td>\n",
       "      <td>0.016047</td>\n",
       "      <td>Dairy</td>\n",
       "      <td>249.8092</td>\n",
       "      <td>OUT049</td>\n",
       "      <td>1999</td>\n",
       "      <td>Medium</td>\n",
       "      <td>Tier 1</td>\n",
       "      <td>Supermarket Type1</td>\n",
       "      <td>3735.1380</td>\n",
       "    </tr>\n",
       "    <tr>\n",
       "      <th>1</th>\n",
       "      <td>DRC01</td>\n",
       "      <td>5.92</td>\n",
       "      <td>Regular</td>\n",
       "      <td>0.019278</td>\n",
       "      <td>Soft Drinks</td>\n",
       "      <td>48.2692</td>\n",
       "      <td>OUT018</td>\n",
       "      <td>2009</td>\n",
       "      <td>Medium</td>\n",
       "      <td>Tier 3</td>\n",
       "      <td>Supermarket Type2</td>\n",
       "      <td>443.4228</td>\n",
       "    </tr>\n",
       "    <tr>\n",
       "      <th>2</th>\n",
       "      <td>FDN15</td>\n",
       "      <td>17.50</td>\n",
       "      <td>Low Fat</td>\n",
       "      <td>0.016760</td>\n",
       "      <td>Meat</td>\n",
       "      <td>141.6180</td>\n",
       "      <td>OUT049</td>\n",
       "      <td>1999</td>\n",
       "      <td>Medium</td>\n",
       "      <td>Tier 1</td>\n",
       "      <td>Supermarket Type1</td>\n",
       "      <td>2097.2700</td>\n",
       "    </tr>\n",
       "    <tr>\n",
       "      <th>3</th>\n",
       "      <td>FDX07</td>\n",
       "      <td>19.20</td>\n",
       "      <td>Regular</td>\n",
       "      <td>0.074402</td>\n",
       "      <td>Fruits and Vegetables</td>\n",
       "      <td>182.0950</td>\n",
       "      <td>OUT010</td>\n",
       "      <td>1998</td>\n",
       "      <td>Medium</td>\n",
       "      <td>Tier 3</td>\n",
       "      <td>Grocery Store</td>\n",
       "      <td>732.3800</td>\n",
       "    </tr>\n",
       "    <tr>\n",
       "      <th>4</th>\n",
       "      <td>NCD19</td>\n",
       "      <td>8.93</td>\n",
       "      <td>Low Fat</td>\n",
       "      <td>0.064299</td>\n",
       "      <td>Household</td>\n",
       "      <td>53.8614</td>\n",
       "      <td>OUT013</td>\n",
       "      <td>1987</td>\n",
       "      <td>High</td>\n",
       "      <td>Tier 3</td>\n",
       "      <td>Supermarket Type1</td>\n",
       "      <td>994.7052</td>\n",
       "    </tr>\n",
       "  </tbody>\n",
       "</table>\n",
       "</div>"
      ],
      "text/plain": [
       "  Item_Identifier  Item_Weight Item_Fat_Content  Item_Visibility  \\\n",
       "0           FDA15         9.30          Low Fat         0.016047   \n",
       "1           DRC01         5.92          Regular         0.019278   \n",
       "2           FDN15        17.50          Low Fat         0.016760   \n",
       "3           FDX07        19.20          Regular         0.074402   \n",
       "4           NCD19         8.93          Low Fat         0.064299   \n",
       "\n",
       "               Item_Type  Item_MRP Outlet_Identifier  \\\n",
       "0                  Dairy  249.8092            OUT049   \n",
       "1            Soft Drinks   48.2692            OUT018   \n",
       "2                   Meat  141.6180            OUT049   \n",
       "3  Fruits and Vegetables  182.0950            OUT010   \n",
       "4              Household   53.8614            OUT013   \n",
       "\n",
       "   Outlet_Establishment_Year Outlet_Size Outlet_Location_Type  \\\n",
       "0                       1999      Medium               Tier 1   \n",
       "1                       2009      Medium               Tier 3   \n",
       "2                       1999      Medium               Tier 1   \n",
       "3                       1998      Medium               Tier 3   \n",
       "4                       1987        High               Tier 3   \n",
       "\n",
       "         Outlet_Type  Item_Outlet_Sales  \n",
       "0  Supermarket Type1          3735.1380  \n",
       "1  Supermarket Type2           443.4228  \n",
       "2  Supermarket Type1          2097.2700  \n",
       "3      Grocery Store           732.3800  \n",
       "4  Supermarket Type1           994.7052  "
      ]
     },
     "execution_count": 2,
     "metadata": {},
     "output_type": "execute_result"
    }
   ],
   "source": [
    "import pandas as pd\n",
    "\n",
    "df=pd.read_csv(\"DS3_C6_S1_Regression_StoreSales_Data_Project.csv\")\n",
    "df.head()"
   ]
  },
  {
   "cell_type": "markdown",
   "id": "b5aa3c24",
   "metadata": {},
   "source": [
    "# • Insights from data"
   ]
  },
  {
   "cell_type": "code",
   "execution_count": 3,
   "id": "7d2000af",
   "metadata": {},
   "outputs": [
    {
     "name": "stdout",
     "output_type": "stream",
     "text": [
      "Data has  14204  rows and 12 columns\n"
     ]
    }
   ],
   "source": [
    "print(\"Data has \",df.shape[0], \" rows and\",df.shape[1],\"columns\")"
   ]
  },
  {
   "cell_type": "code",
   "execution_count": 4,
   "id": "ef7f8145",
   "metadata": {},
   "outputs": [
    {
     "data": {
      "text/plain": [
       "Item_Identifier               object\n",
       "Item_Weight                  float64\n",
       "Item_Fat_Content              object\n",
       "Item_Visibility              float64\n",
       "Item_Type                     object\n",
       "Item_MRP                     float64\n",
       "Outlet_Identifier             object\n",
       "Outlet_Establishment_Year      int64\n",
       "Outlet_Size                   object\n",
       "Outlet_Location_Type          object\n",
       "Outlet_Type                   object\n",
       "Item_Outlet_Sales            float64\n",
       "dtype: object"
      ]
     },
     "execution_count": 4,
     "metadata": {},
     "output_type": "execute_result"
    }
   ],
   "source": [
    "df.dtypes"
   ]
  },
  {
   "cell_type": "markdown",
   "id": "0564fd71",
   "metadata": {},
   "source": [
    "Data types of the features and label"
   ]
  },
  {
   "cell_type": "code",
   "execution_count": 5,
   "id": "ab315870",
   "metadata": {},
   "outputs": [
    {
     "data": {
      "text/html": [
       "<div>\n",
       "<style scoped>\n",
       "    .dataframe tbody tr th:only-of-type {\n",
       "        vertical-align: middle;\n",
       "    }\n",
       "\n",
       "    .dataframe tbody tr th {\n",
       "        vertical-align: top;\n",
       "    }\n",
       "\n",
       "    .dataframe thead th {\n",
       "        text-align: right;\n",
       "    }\n",
       "</style>\n",
       "<table border=\"1\" class=\"dataframe\">\n",
       "  <thead>\n",
       "    <tr style=\"text-align: right;\">\n",
       "      <th></th>\n",
       "      <th>Item_Weight</th>\n",
       "      <th>Item_Visibility</th>\n",
       "      <th>Item_MRP</th>\n",
       "      <th>Outlet_Establishment_Year</th>\n",
       "      <th>Item_Outlet_Sales</th>\n",
       "    </tr>\n",
       "  </thead>\n",
       "  <tbody>\n",
       "    <tr>\n",
       "      <th>count</th>\n",
       "      <td>14204.000000</td>\n",
       "      <td>14204.000000</td>\n",
       "      <td>14204.000000</td>\n",
       "      <td>14204.000000</td>\n",
       "      <td>8523.000000</td>\n",
       "    </tr>\n",
       "    <tr>\n",
       "      <th>mean</th>\n",
       "      <td>12.793380</td>\n",
       "      <td>0.070301</td>\n",
       "      <td>141.004977</td>\n",
       "      <td>1997.830681</td>\n",
       "      <td>2181.288914</td>\n",
       "    </tr>\n",
       "    <tr>\n",
       "      <th>std</th>\n",
       "      <td>4.651716</td>\n",
       "      <td>0.048621</td>\n",
       "      <td>62.086938</td>\n",
       "      <td>8.371664</td>\n",
       "      <td>1706.499616</td>\n",
       "    </tr>\n",
       "    <tr>\n",
       "      <th>min</th>\n",
       "      <td>4.555000</td>\n",
       "      <td>0.003575</td>\n",
       "      <td>31.290000</td>\n",
       "      <td>1985.000000</td>\n",
       "      <td>33.290000</td>\n",
       "    </tr>\n",
       "    <tr>\n",
       "      <th>25%</th>\n",
       "      <td>8.710000</td>\n",
       "      <td>0.033143</td>\n",
       "      <td>94.012000</td>\n",
       "      <td>1987.000000</td>\n",
       "      <td>834.247400</td>\n",
       "    </tr>\n",
       "    <tr>\n",
       "      <th>50%</th>\n",
       "      <td>12.600000</td>\n",
       "      <td>0.062347</td>\n",
       "      <td>142.247000</td>\n",
       "      <td>1999.000000</td>\n",
       "      <td>1794.331000</td>\n",
       "    </tr>\n",
       "    <tr>\n",
       "      <th>75%</th>\n",
       "      <td>16.750000</td>\n",
       "      <td>0.094037</td>\n",
       "      <td>185.855600</td>\n",
       "      <td>2004.000000</td>\n",
       "      <td>3101.296400</td>\n",
       "    </tr>\n",
       "    <tr>\n",
       "      <th>max</th>\n",
       "      <td>21.350000</td>\n",
       "      <td>0.328391</td>\n",
       "      <td>266.888400</td>\n",
       "      <td>2009.000000</td>\n",
       "      <td>13086.964800</td>\n",
       "    </tr>\n",
       "  </tbody>\n",
       "</table>\n",
       "</div>"
      ],
      "text/plain": [
       "        Item_Weight  Item_Visibility      Item_MRP  Outlet_Establishment_Year  \\\n",
       "count  14204.000000     14204.000000  14204.000000               14204.000000   \n",
       "mean      12.793380         0.070301    141.004977                1997.830681   \n",
       "std        4.651716         0.048621     62.086938                   8.371664   \n",
       "min        4.555000         0.003575     31.290000                1985.000000   \n",
       "25%        8.710000         0.033143     94.012000                1987.000000   \n",
       "50%       12.600000         0.062347    142.247000                1999.000000   \n",
       "75%       16.750000         0.094037    185.855600                2004.000000   \n",
       "max       21.350000         0.328391    266.888400                2009.000000   \n",
       "\n",
       "       Item_Outlet_Sales  \n",
       "count        8523.000000  \n",
       "mean         2181.288914  \n",
       "std          1706.499616  \n",
       "min            33.290000  \n",
       "25%           834.247400  \n",
       "50%          1794.331000  \n",
       "75%          3101.296400  \n",
       "max         13086.964800  "
      ]
     },
     "execution_count": 5,
     "metadata": {},
     "output_type": "execute_result"
    }
   ],
   "source": [
    "df.describe()"
   ]
  },
  {
   "cell_type": "code",
   "execution_count": null,
   "id": "7d2e2d76",
   "metadata": {},
   "outputs": [],
   "source": []
  },
  {
   "cell_type": "code",
   "execution_count": 6,
   "id": "9746c73d",
   "metadata": {},
   "outputs": [
    {
     "name": "stdout",
     "output_type": "stream",
     "text": [
      "<class 'pandas.core.frame.DataFrame'>\n",
      "RangeIndex: 14204 entries, 0 to 14203\n",
      "Data columns (total 12 columns):\n",
      " #   Column                     Non-Null Count  Dtype  \n",
      "---  ------                     --------------  -----  \n",
      " 0   Item_Identifier            14204 non-null  object \n",
      " 1   Item_Weight                14204 non-null  float64\n",
      " 2   Item_Fat_Content           14204 non-null  object \n",
      " 3   Item_Visibility            14204 non-null  float64\n",
      " 4   Item_Type                  14204 non-null  object \n",
      " 5   Item_MRP                   14204 non-null  float64\n",
      " 6   Outlet_Identifier          14204 non-null  object \n",
      " 7   Outlet_Establishment_Year  14204 non-null  int64  \n",
      " 8   Outlet_Size                14204 non-null  object \n",
      " 9   Outlet_Location_Type       14204 non-null  object \n",
      " 10  Outlet_Type                14204 non-null  object \n",
      " 11  Item_Outlet_Sales          8523 non-null   float64\n",
      "dtypes: float64(4), int64(1), object(7)\n",
      "memory usage: 1.3+ MB\n"
     ]
    }
   ],
   "source": [
    "df.info()"
   ]
  },
  {
   "cell_type": "markdown",
   "id": "07b6e0c7",
   "metadata": {},
   "source": [
    "detailed information of data"
   ]
  },
  {
   "cell_type": "code",
   "execution_count": 7,
   "id": "8d90a1f4",
   "metadata": {},
   "outputs": [
    {
     "data": {
      "text/plain": [
       "Item_Identifier               1559\n",
       "Item_Weight                    415\n",
       "Item_Fat_Content                 2\n",
       "Item_Visibility              13010\n",
       "Item_Type                       16\n",
       "Item_MRP                      8052\n",
       "Outlet_Identifier               10\n",
       "Outlet_Establishment_Year        9\n",
       "Outlet_Size                      3\n",
       "Outlet_Location_Type             3\n",
       "Outlet_Type                      4\n",
       "Item_Outlet_Sales             3493\n",
       "dtype: int64"
      ]
     },
     "execution_count": 7,
     "metadata": {},
     "output_type": "execute_result"
    }
   ],
   "source": [
    "df.nunique()"
   ]
  },
  {
   "cell_type": "markdown",
   "id": "765278a3",
   "metadata": {},
   "source": [
    "Count of unique values in columns"
   ]
  },
  {
   "cell_type": "code",
   "execution_count": 8,
   "id": "0351dfe1",
   "metadata": {},
   "outputs": [
    {
     "data": {
      "text/html": [
       "<div>\n",
       "<style scoped>\n",
       "    .dataframe tbody tr th:only-of-type {\n",
       "        vertical-align: middle;\n",
       "    }\n",
       "\n",
       "    .dataframe tbody tr th {\n",
       "        vertical-align: top;\n",
       "    }\n",
       "\n",
       "    .dataframe thead th {\n",
       "        text-align: right;\n",
       "    }\n",
       "</style>\n",
       "<table border=\"1\" class=\"dataframe\">\n",
       "  <thead>\n",
       "    <tr style=\"text-align: right;\">\n",
       "      <th></th>\n",
       "      <th>Item_Identifier</th>\n",
       "      <th>Item_Weight</th>\n",
       "      <th>Item_Fat_Content</th>\n",
       "      <th>Item_Visibility</th>\n",
       "      <th>Item_Type</th>\n",
       "      <th>Item_MRP</th>\n",
       "      <th>Outlet_Identifier</th>\n",
       "      <th>Outlet_Establishment_Year</th>\n",
       "      <th>Outlet_Size</th>\n",
       "      <th>Outlet_Location_Type</th>\n",
       "      <th>Outlet_Type</th>\n",
       "      <th>Item_Outlet_Sales</th>\n",
       "    </tr>\n",
       "  </thead>\n",
       "  <tbody>\n",
       "    <tr>\n",
       "      <th>12860</th>\n",
       "      <td>NCN26</td>\n",
       "      <td>10.85</td>\n",
       "      <td>Low Fat</td>\n",
       "      <td>0.028797</td>\n",
       "      <td>Household</td>\n",
       "      <td>115.4808</td>\n",
       "      <td>OUT018</td>\n",
       "      <td>2009</td>\n",
       "      <td>Medium</td>\n",
       "      <td>Tier 3</td>\n",
       "      <td>Supermarket Type2</td>\n",
       "      <td>NaN</td>\n",
       "    </tr>\n",
       "    <tr>\n",
       "      <th>10932</th>\n",
       "      <td>FDV43</td>\n",
       "      <td>16.00</td>\n",
       "      <td>Low Fat</td>\n",
       "      <td>0.076792</td>\n",
       "      <td>Fruits and Vegetables</td>\n",
       "      <td>44.5086</td>\n",
       "      <td>OUT013</td>\n",
       "      <td>1987</td>\n",
       "      <td>High</td>\n",
       "      <td>Tier 3</td>\n",
       "      <td>Supermarket Type1</td>\n",
       "      <td>NaN</td>\n",
       "    </tr>\n",
       "    <tr>\n",
       "      <th>12261</th>\n",
       "      <td>FDJ58</td>\n",
       "      <td>15.60</td>\n",
       "      <td>Regular</td>\n",
       "      <td>0.105510</td>\n",
       "      <td>Snack Foods</td>\n",
       "      <td>172.8764</td>\n",
       "      <td>OUT045</td>\n",
       "      <td>2002</td>\n",
       "      <td>Small</td>\n",
       "      <td>Tier 2</td>\n",
       "      <td>Supermarket Type1</td>\n",
       "      <td>NaN</td>\n",
       "    </tr>\n",
       "    <tr>\n",
       "      <th>277</th>\n",
       "      <td>FDY03</td>\n",
       "      <td>17.60</td>\n",
       "      <td>Regular</td>\n",
       "      <td>0.076552</td>\n",
       "      <td>Meat</td>\n",
       "      <td>110.5202</td>\n",
       "      <td>OUT017</td>\n",
       "      <td>2007</td>\n",
       "      <td>Small</td>\n",
       "      <td>Tier 2</td>\n",
       "      <td>Supermarket Type1</td>\n",
       "      <td>450.0808</td>\n",
       "    </tr>\n",
       "    <tr>\n",
       "      <th>13068</th>\n",
       "      <td>FDV50</td>\n",
       "      <td>14.30</td>\n",
       "      <td>Low Fat</td>\n",
       "      <td>0.074402</td>\n",
       "      <td>Dairy</td>\n",
       "      <td>124.1730</td>\n",
       "      <td>OUT010</td>\n",
       "      <td>1998</td>\n",
       "      <td>Medium</td>\n",
       "      <td>Tier 3</td>\n",
       "      <td>Grocery Store</td>\n",
       "      <td>NaN</td>\n",
       "    </tr>\n",
       "  </tbody>\n",
       "</table>\n",
       "</div>"
      ],
      "text/plain": [
       "      Item_Identifier  Item_Weight Item_Fat_Content  Item_Visibility  \\\n",
       "12860           NCN26        10.85          Low Fat         0.028797   \n",
       "10932           FDV43        16.00          Low Fat         0.076792   \n",
       "12261           FDJ58        15.60          Regular         0.105510   \n",
       "277             FDY03        17.60          Regular         0.076552   \n",
       "13068           FDV50        14.30          Low Fat         0.074402   \n",
       "\n",
       "                   Item_Type  Item_MRP Outlet_Identifier  \\\n",
       "12860              Household  115.4808            OUT018   \n",
       "10932  Fruits and Vegetables   44.5086            OUT013   \n",
       "12261            Snack Foods  172.8764            OUT045   \n",
       "277                     Meat  110.5202            OUT017   \n",
       "13068                  Dairy  124.1730            OUT010   \n",
       "\n",
       "       Outlet_Establishment_Year Outlet_Size Outlet_Location_Type  \\\n",
       "12860                       2009      Medium               Tier 3   \n",
       "10932                       1987        High               Tier 3   \n",
       "12261                       2002       Small               Tier 2   \n",
       "277                         2007       Small               Tier 2   \n",
       "13068                       1998      Medium               Tier 3   \n",
       "\n",
       "             Outlet_Type  Item_Outlet_Sales  \n",
       "12860  Supermarket Type2                NaN  \n",
       "10932  Supermarket Type1                NaN  \n",
       "12261  Supermarket Type1                NaN  \n",
       "277    Supermarket Type1           450.0808  \n",
       "13068      Grocery Store                NaN  "
      ]
     },
     "execution_count": 8,
     "metadata": {},
     "output_type": "execute_result"
    }
   ],
   "source": [
    "df.sample(5)"
   ]
  },
  {
   "cell_type": "markdown",
   "id": "41d02ea1",
   "metadata": {},
   "source": [
    "# • Null Value Treatment"
   ]
  },
  {
   "cell_type": "code",
   "execution_count": 9,
   "id": "f4167c03",
   "metadata": {},
   "outputs": [
    {
     "data": {
      "text/plain": [
       "Item_Identifier                 0\n",
       "Item_Weight                     0\n",
       "Item_Fat_Content                0\n",
       "Item_Visibility                 0\n",
       "Item_Type                       0\n",
       "Item_MRP                        0\n",
       "Outlet_Identifier               0\n",
       "Outlet_Establishment_Year       0\n",
       "Outlet_Size                     0\n",
       "Outlet_Location_Type            0\n",
       "Outlet_Type                     0\n",
       "Item_Outlet_Sales            5681\n",
       "dtype: int64"
      ]
     },
     "execution_count": 9,
     "metadata": {},
     "output_type": "execute_result"
    }
   ],
   "source": [
    "df.isnull().sum()"
   ]
  },
  {
   "cell_type": "code",
   "execution_count": 10,
   "id": "099beaaa",
   "metadata": {},
   "outputs": [],
   "source": [
    "df_nan = df[df.isnull().any(axis=1)]"
   ]
  },
  {
   "cell_type": "code",
   "execution_count": null,
   "id": "58edd329",
   "metadata": {},
   "outputs": [],
   "source": []
  },
  {
   "cell_type": "code",
   "execution_count": 11,
   "id": "504062ce",
   "metadata": {},
   "outputs": [],
   "source": [
    "df=df.dropna()"
   ]
  },
  {
   "cell_type": "code",
   "execution_count": 12,
   "id": "a3b8edfd",
   "metadata": {},
   "outputs": [],
   "source": [
    "df1=df"
   ]
  },
  {
   "cell_type": "code",
   "execution_count": 13,
   "id": "e6ad78aa",
   "metadata": {},
   "outputs": [
    {
     "data": {
      "text/html": [
       "<div>\n",
       "<style scoped>\n",
       "    .dataframe tbody tr th:only-of-type {\n",
       "        vertical-align: middle;\n",
       "    }\n",
       "\n",
       "    .dataframe tbody tr th {\n",
       "        vertical-align: top;\n",
       "    }\n",
       "\n",
       "    .dataframe thead th {\n",
       "        text-align: right;\n",
       "    }\n",
       "</style>\n",
       "<table border=\"1\" class=\"dataframe\">\n",
       "  <thead>\n",
       "    <tr style=\"text-align: right;\">\n",
       "      <th></th>\n",
       "      <th>Item_Identifier</th>\n",
       "      <th>Item_Weight</th>\n",
       "      <th>Item_Fat_Content</th>\n",
       "      <th>Item_Visibility</th>\n",
       "      <th>Item_Type</th>\n",
       "      <th>Item_MRP</th>\n",
       "      <th>Outlet_Identifier</th>\n",
       "      <th>Outlet_Establishment_Year</th>\n",
       "      <th>Outlet_Size</th>\n",
       "      <th>Outlet_Location_Type</th>\n",
       "      <th>Outlet_Type</th>\n",
       "      <th>Item_Outlet_Sales</th>\n",
       "    </tr>\n",
       "  </thead>\n",
       "  <tbody>\n",
       "    <tr>\n",
       "      <th>8523</th>\n",
       "      <td>FDW58</td>\n",
       "      <td>20.750</td>\n",
       "      <td>Low Fat</td>\n",
       "      <td>0.007565</td>\n",
       "      <td>Snack Foods</td>\n",
       "      <td>107.8622</td>\n",
       "      <td>OUT049</td>\n",
       "      <td>1999</td>\n",
       "      <td>Medium</td>\n",
       "      <td>Tier 1</td>\n",
       "      <td>Supermarket Type1</td>\n",
       "      <td>NaN</td>\n",
       "    </tr>\n",
       "    <tr>\n",
       "      <th>8524</th>\n",
       "      <td>FDW14</td>\n",
       "      <td>8.300</td>\n",
       "      <td>Regular</td>\n",
       "      <td>0.038428</td>\n",
       "      <td>Dairy</td>\n",
       "      <td>87.3198</td>\n",
       "      <td>OUT017</td>\n",
       "      <td>2007</td>\n",
       "      <td>Small</td>\n",
       "      <td>Tier 2</td>\n",
       "      <td>Supermarket Type1</td>\n",
       "      <td>NaN</td>\n",
       "    </tr>\n",
       "    <tr>\n",
       "      <th>8525</th>\n",
       "      <td>NCN55</td>\n",
       "      <td>14.600</td>\n",
       "      <td>Low Fat</td>\n",
       "      <td>0.099575</td>\n",
       "      <td>Others</td>\n",
       "      <td>241.7538</td>\n",
       "      <td>OUT010</td>\n",
       "      <td>1998</td>\n",
       "      <td>Medium</td>\n",
       "      <td>Tier 3</td>\n",
       "      <td>Grocery Store</td>\n",
       "      <td>NaN</td>\n",
       "    </tr>\n",
       "    <tr>\n",
       "      <th>8526</th>\n",
       "      <td>FDQ58</td>\n",
       "      <td>7.315</td>\n",
       "      <td>Low Fat</td>\n",
       "      <td>0.015388</td>\n",
       "      <td>Snack Foods</td>\n",
       "      <td>155.0340</td>\n",
       "      <td>OUT017</td>\n",
       "      <td>2007</td>\n",
       "      <td>Small</td>\n",
       "      <td>Tier 2</td>\n",
       "      <td>Supermarket Type1</td>\n",
       "      <td>NaN</td>\n",
       "    </tr>\n",
       "    <tr>\n",
       "      <th>8527</th>\n",
       "      <td>FDY38</td>\n",
       "      <td>13.600</td>\n",
       "      <td>Regular</td>\n",
       "      <td>0.118599</td>\n",
       "      <td>Dairy</td>\n",
       "      <td>234.2300</td>\n",
       "      <td>OUT027</td>\n",
       "      <td>1985</td>\n",
       "      <td>Medium</td>\n",
       "      <td>Tier 3</td>\n",
       "      <td>Supermarket Type3</td>\n",
       "      <td>NaN</td>\n",
       "    </tr>\n",
       "  </tbody>\n",
       "</table>\n",
       "</div>"
      ],
      "text/plain": [
       "     Item_Identifier  Item_Weight Item_Fat_Content  Item_Visibility  \\\n",
       "8523           FDW58       20.750          Low Fat         0.007565   \n",
       "8524           FDW14        8.300          Regular         0.038428   \n",
       "8525           NCN55       14.600          Low Fat         0.099575   \n",
       "8526           FDQ58        7.315          Low Fat         0.015388   \n",
       "8527           FDY38       13.600          Regular         0.118599   \n",
       "\n",
       "        Item_Type  Item_MRP Outlet_Identifier  Outlet_Establishment_Year  \\\n",
       "8523  Snack Foods  107.8622            OUT049                       1999   \n",
       "8524        Dairy   87.3198            OUT017                       2007   \n",
       "8525       Others  241.7538            OUT010                       1998   \n",
       "8526  Snack Foods  155.0340            OUT017                       2007   \n",
       "8527        Dairy  234.2300            OUT027                       1985   \n",
       "\n",
       "     Outlet_Size Outlet_Location_Type        Outlet_Type  Item_Outlet_Sales  \n",
       "8523      Medium               Tier 1  Supermarket Type1                NaN  \n",
       "8524       Small               Tier 2  Supermarket Type1                NaN  \n",
       "8525      Medium               Tier 3      Grocery Store                NaN  \n",
       "8526       Small               Tier 2  Supermarket Type1                NaN  \n",
       "8527      Medium               Tier 3  Supermarket Type3                NaN  "
      ]
     },
     "execution_count": 13,
     "metadata": {},
     "output_type": "execute_result"
    }
   ],
   "source": [
    "df_nan.head()"
   ]
  },
  {
   "cell_type": "markdown",
   "id": "5778e6a4",
   "metadata": {},
   "source": [
    "Seperated the target with all nan value to impute predicted values and for avoid data loss"
   ]
  },
  {
   "cell_type": "code",
   "execution_count": 14,
   "id": "b28ff4c8",
   "metadata": {},
   "outputs": [
    {
     "data": {
      "text/html": [
       "<div>\n",
       "<style scoped>\n",
       "    .dataframe tbody tr th:only-of-type {\n",
       "        vertical-align: middle;\n",
       "    }\n",
       "\n",
       "    .dataframe tbody tr th {\n",
       "        vertical-align: top;\n",
       "    }\n",
       "\n",
       "    .dataframe thead th {\n",
       "        text-align: right;\n",
       "    }\n",
       "</style>\n",
       "<table border=\"1\" class=\"dataframe\">\n",
       "  <thead>\n",
       "    <tr style=\"text-align: right;\">\n",
       "      <th></th>\n",
       "      <th>Item_Identifier</th>\n",
       "      <th>Item_Weight</th>\n",
       "      <th>Item_Fat_Content</th>\n",
       "      <th>Item_Visibility</th>\n",
       "      <th>Item_Type</th>\n",
       "      <th>Item_MRP</th>\n",
       "      <th>Outlet_Identifier</th>\n",
       "      <th>Outlet_Establishment_Year</th>\n",
       "      <th>Outlet_Size</th>\n",
       "      <th>Outlet_Location_Type</th>\n",
       "      <th>Outlet_Type</th>\n",
       "      <th>Item_Outlet_Sales</th>\n",
       "    </tr>\n",
       "  </thead>\n",
       "  <tbody>\n",
       "    <tr>\n",
       "      <th>0</th>\n",
       "      <td>FDA15</td>\n",
       "      <td>9.30</td>\n",
       "      <td>Low Fat</td>\n",
       "      <td>0.016047</td>\n",
       "      <td>Dairy</td>\n",
       "      <td>249.8092</td>\n",
       "      <td>OUT049</td>\n",
       "      <td>1999</td>\n",
       "      <td>Medium</td>\n",
       "      <td>Tier 1</td>\n",
       "      <td>Supermarket Type1</td>\n",
       "      <td>3735.1380</td>\n",
       "    </tr>\n",
       "    <tr>\n",
       "      <th>1</th>\n",
       "      <td>DRC01</td>\n",
       "      <td>5.92</td>\n",
       "      <td>Regular</td>\n",
       "      <td>0.019278</td>\n",
       "      <td>Soft Drinks</td>\n",
       "      <td>48.2692</td>\n",
       "      <td>OUT018</td>\n",
       "      <td>2009</td>\n",
       "      <td>Medium</td>\n",
       "      <td>Tier 3</td>\n",
       "      <td>Supermarket Type2</td>\n",
       "      <td>443.4228</td>\n",
       "    </tr>\n",
       "    <tr>\n",
       "      <th>2</th>\n",
       "      <td>FDN15</td>\n",
       "      <td>17.50</td>\n",
       "      <td>Low Fat</td>\n",
       "      <td>0.016760</td>\n",
       "      <td>Meat</td>\n",
       "      <td>141.6180</td>\n",
       "      <td>OUT049</td>\n",
       "      <td>1999</td>\n",
       "      <td>Medium</td>\n",
       "      <td>Tier 1</td>\n",
       "      <td>Supermarket Type1</td>\n",
       "      <td>2097.2700</td>\n",
       "    </tr>\n",
       "    <tr>\n",
       "      <th>3</th>\n",
       "      <td>FDX07</td>\n",
       "      <td>19.20</td>\n",
       "      <td>Regular</td>\n",
       "      <td>0.074402</td>\n",
       "      <td>Fruits and Vegetables</td>\n",
       "      <td>182.0950</td>\n",
       "      <td>OUT010</td>\n",
       "      <td>1998</td>\n",
       "      <td>Medium</td>\n",
       "      <td>Tier 3</td>\n",
       "      <td>Grocery Store</td>\n",
       "      <td>732.3800</td>\n",
       "    </tr>\n",
       "    <tr>\n",
       "      <th>4</th>\n",
       "      <td>NCD19</td>\n",
       "      <td>8.93</td>\n",
       "      <td>Low Fat</td>\n",
       "      <td>0.064299</td>\n",
       "      <td>Household</td>\n",
       "      <td>53.8614</td>\n",
       "      <td>OUT013</td>\n",
       "      <td>1987</td>\n",
       "      <td>High</td>\n",
       "      <td>Tier 3</td>\n",
       "      <td>Supermarket Type1</td>\n",
       "      <td>994.7052</td>\n",
       "    </tr>\n",
       "  </tbody>\n",
       "</table>\n",
       "</div>"
      ],
      "text/plain": [
       "  Item_Identifier  Item_Weight Item_Fat_Content  Item_Visibility  \\\n",
       "0           FDA15         9.30          Low Fat         0.016047   \n",
       "1           DRC01         5.92          Regular         0.019278   \n",
       "2           FDN15        17.50          Low Fat         0.016760   \n",
       "3           FDX07        19.20          Regular         0.074402   \n",
       "4           NCD19         8.93          Low Fat         0.064299   \n",
       "\n",
       "               Item_Type  Item_MRP Outlet_Identifier  \\\n",
       "0                  Dairy  249.8092            OUT049   \n",
       "1            Soft Drinks   48.2692            OUT018   \n",
       "2                   Meat  141.6180            OUT049   \n",
       "3  Fruits and Vegetables  182.0950            OUT010   \n",
       "4              Household   53.8614            OUT013   \n",
       "\n",
       "   Outlet_Establishment_Year Outlet_Size Outlet_Location_Type  \\\n",
       "0                       1999      Medium               Tier 1   \n",
       "1                       2009      Medium               Tier 3   \n",
       "2                       1999      Medium               Tier 1   \n",
       "3                       1998      Medium               Tier 3   \n",
       "4                       1987        High               Tier 3   \n",
       "\n",
       "         Outlet_Type  Item_Outlet_Sales  \n",
       "0  Supermarket Type1          3735.1380  \n",
       "1  Supermarket Type2           443.4228  \n",
       "2  Supermarket Type1          2097.2700  \n",
       "3      Grocery Store           732.3800  \n",
       "4  Supermarket Type1           994.7052  "
      ]
     },
     "execution_count": 14,
     "metadata": {},
     "output_type": "execute_result"
    }
   ],
   "source": [
    "df.head()"
   ]
  },
  {
   "cell_type": "markdown",
   "id": "2c1608ba",
   "metadata": {},
   "source": [
    "# • EDA"
   ]
  },
  {
   "cell_type": "code",
   "execution_count": 15,
   "id": "0d4c6acd",
   "metadata": {},
   "outputs": [
    {
     "name": "stdout",
     "output_type": "stream",
     "text": [
      "categorical                continuous\n",
      "-------------------------  -----------------\n",
      "Item_Fat_Content           Item_Identifier\n",
      "Item_Type                  Item_Weight\n",
      "Outlet_Identifier          Item_Visibility\n",
      "Outlet_Establishment_Year  Item_MRP\n",
      "Outlet_Size                Item_Outlet_Sales\n",
      "Outlet_Location_Type\n",
      "Outlet_Type\n"
     ]
    }
   ],
   "source": [
    "def seprate_data_types(df1):\n",
    "    categorical = []\n",
    "    continuous = []\n",
    "    for column in df1.columns:                \n",
    "        if df[column].nunique() <40:       \n",
    "                                                    \n",
    "            categorical.append(column)\n",
    "        else:\n",
    "            continuous.append(column)\n",
    "            \n",
    "    return categorical, continuous \n",
    "\n",
    "\n",
    "categorical, continuous = seprate_data_types(df1)         \n",
    "\n",
    "\n",
    "from tabulate import tabulate\n",
    "table = [categorical, continuous]\n",
    "print(tabulate({\"Categorical\":categorical,\n",
    "                \"continuous\": continuous}, headers = [\"categorical\", \"continuous\"]))"
   ]
  },
  {
   "cell_type": "code",
   "execution_count": null,
   "id": "a3c93f2f",
   "metadata": {},
   "outputs": [],
   "source": []
  },
  {
   "cell_type": "code",
   "execution_count": 16,
   "id": "6992dbf7",
   "metadata": {},
   "outputs": [],
   "source": [
    "def info_of_cat(col): \n",
    "    print(f\"Unique values in {col} are: {df1[col].unique()}\") \n",
    "    print(f\"Mode of {col} is {df1[col].mode()[0]}\")  \n",
    "    print(f\"Number of missing values in {col} is {df1[col].isnull().sum()}\")"
   ]
  },
  {
   "cell_type": "code",
   "execution_count": 17,
   "id": "6705e74f",
   "metadata": {},
   "outputs": [
    {
     "name": "stdout",
     "output_type": "stream",
     "text": [
      "Unique values in Item_Fat_Content are: ['Low Fat' 'Regular']\n",
      "Mode of Item_Fat_Content is Low Fat\n",
      "Number of missing values in Item_Fat_Content is 0\n"
     ]
    }
   ],
   "source": [
    "info_of_cat(\"Item_Fat_Content\")"
   ]
  },
  {
   "cell_type": "code",
   "execution_count": 18,
   "id": "aaa73810",
   "metadata": {},
   "outputs": [],
   "source": [
    "import matplotlib.pyplot as plt             \n",
    "from tabulate import tabulate               \n",
    "import matplotlib as mat                     \n",
    "import seaborn as sns "
   ]
  },
  {
   "cell_type": "markdown",
   "id": "d2f1a016",
   "metadata": {},
   "source": [
    "# a.Items with fats contents"
   ]
  },
  {
   "cell_type": "code",
   "execution_count": 19,
   "id": "9b392aa6",
   "metadata": {},
   "outputs": [
    {
     "data": {
      "image/png": "[encoded data removed]",
      "text/plain": [
       "<Figure size 1500x700 with 2 Axes>"
      ]
     },
     "metadata": {},
     "output_type": "display_data"
    }
   ],
   "source": [
    "fig, ax = plt.subplots(1, 2, figsize = (15, 7))\n",
    "ax[0].set_title(\"Count of Item_Fat_Content\")                  \n",
    "percentage = df1[\"Item_Fat_Content\"].value_counts()         \n",
    "labels = list(df1[\"Item_Fat_Content\"].value_counts().index) \n",
    "\n",
    "sns.countplot(x = df1[\"Item_Fat_Content\"], ax = ax[0])\n",
    "plt.pie(percentage,labels = labels, autopct= \"%0.2f%%\")  \n",
    "\n",
    "plt.show()"
   ]
  },
  {
   "cell_type": "markdown",
   "id": "74f7c01c",
   "metadata": {},
   "source": [
    "People like to buy low fat product mostly"
   ]
  },
  {
   "cell_type": "markdown",
   "id": "5cb1620a",
   "metadata": {},
   "source": [
    "# b.Most liked Item Type"
   ]
  },
  {
   "cell_type": "code",
   "execution_count": 20,
   "id": "02bf95c0",
   "metadata": {},
   "outputs": [
    {
     "data": {
      "image/png": "[encoded data removed]",
      "text/plain": [
       "<Figure size 640x480 with 1 Axes>"
      ]
     },
     "metadata": {},
     "output_type": "display_data"
    }
   ],
   "source": [
    "percentage = df1[\"Item_Type\"].value_counts()         \n",
    "labels = list(df1[\"Item_Type\"].value_counts().index) \n",
    "plt.pie(percentage,labels = labels, autopct= \"%0.2f%%\")  \n",
    "plt.show()"
   ]
  },
  {
   "cell_type": "markdown",
   "id": "2169cc56",
   "metadata": {},
   "source": [
    "Fruits and Vegetables are most sold item type"
   ]
  },
  {
   "cell_type": "markdown",
   "id": "2a9c912b",
   "metadata": {},
   "source": [
    "# c.Outlet Size wise Sales"
   ]
  },
  {
   "cell_type": "code",
   "execution_count": 21,
   "id": "a131b6f3",
   "metadata": {},
   "outputs": [
    {
     "data": {
      "text/plain": [
       "<AxesSubplot:xlabel='Outlet_Size'>"
      ]
     },
     "execution_count": 21,
     "metadata": {},
     "output_type": "execute_result"
    },
    {
     "data": {
      "image/png": "[encoded data removed]",
      "text/plain": [
       "<Figure size 640x480 with 1 Axes>"
      ]
     },
     "metadata": {},
     "output_type": "display_data"
    }
   ],
   "source": [
    "df1.groupby(['Outlet_Size']).sum().plot(\n",
    "    kind='bar', y='Item_Outlet_Sales')"
   ]
  },
  {
   "cell_type": "markdown",
   "id": "33a0d8e9",
   "metadata": {},
   "source": [
    "Small Size outlet is observed with the highest sales"
   ]
  },
  {
   "cell_type": "markdown",
   "id": "c9ae6307",
   "metadata": {},
   "source": [
    "# d.Location Wise Item Visibility"
   ]
  },
  {
   "cell_type": "code",
   "execution_count": 22,
   "id": "c0474a78",
   "metadata": {},
   "outputs": [
    {
     "data": {
      "text/plain": [
       "<AxesSubplot:ylabel='Item_Visibility'>"
      ]
     },
     "execution_count": 22,
     "metadata": {},
     "output_type": "execute_result"
    },
    {
     "data": {
      "image/png": "[encoded data removed]",
      "text/plain": [
       "<Figure size 640x480 with 1 Axes>"
      ]
     },
     "metadata": {},
     "output_type": "display_data"
    }
   ],
   "source": [
    "df1.groupby(['Outlet_Location_Type']).sum().plot(\n",
    "    kind='pie', y='Item_Visibility', autopct='%1.0f%%')"
   ]
  },
  {
   "cell_type": "markdown",
   "id": "daf67476",
   "metadata": {},
   "source": [
    "Item Visibility is nearly same in all location but in Tier3 the items are more easily visible"
   ]
  },
  {
   "cell_type": "markdown",
   "id": "04b6d7a2",
   "metadata": {},
   "source": [
    "# e.Tier1 Wise Item type"
   ]
  },
  {
   "cell_type": "code",
   "execution_count": 23,
   "id": "ace90d8a",
   "metadata": {},
   "outputs": [
    {
     "data": {
      "image/png": "[encoded data removed]",
      "text/plain": [
       "<Figure size 640x480 with 1 Axes>"
      ]
     },
     "metadata": {},
     "output_type": "display_data"
    }
   ],
   "source": [
    "newdf2 = df1[(df1.Outlet_Location_Type ==\"Tier 1\") ]\n",
    "newdf2.groupby(['Item_Type']).sum().plot(\n",
    "    kind='pie', y='Item_Outlet_Sales', autopct='%1.0f%%',legend=False)\n",
    "plt.show()"
   ]
  },
  {
   "cell_type": "markdown",
   "id": "e29ea823",
   "metadata": {},
   "source": [
    "# f.Tier2 Wise Item type"
   ]
  },
  {
   "cell_type": "code",
   "execution_count": 24,
   "id": "07514456",
   "metadata": {},
   "outputs": [
    {
     "data": {
      "image/png": "[encoded data removed]",
      "text/plain": [
       "<Figure size 640x480 with 1 Axes>"
      ]
     },
     "metadata": {},
     "output_type": "display_data"
    }
   ],
   "source": [
    "newdf2 = df1[(df1.Outlet_Location_Type ==\"Tier 2\") ]\n",
    "\n",
    "\n",
    "newdf2.groupby(['Item_Type']).sum().plot(\n",
    "    kind='pie', y='Item_Outlet_Sales', autopct='%1.0f%%',legend=False)\n",
    "plt.show()"
   ]
  },
  {
   "cell_type": "markdown",
   "id": "f33b0893",
   "metadata": {},
   "source": [
    "# g.Tier3 Wise Item type"
   ]
  },
  {
   "cell_type": "code",
   "execution_count": 25,
   "id": "20aab9db",
   "metadata": {},
   "outputs": [
    {
     "data": {
      "image/png": "[encoded data removed]",
      "text/plain": [
       "<Figure size 640x480 with 1 Axes>"
      ]
     },
     "metadata": {},
     "output_type": "display_data"
    }
   ],
   "source": [
    "newdf2 = df1[(df1.Outlet_Location_Type ==\"Tier 3\") ]\n",
    "\n",
    "\n",
    "newdf2.groupby(['Item_Type']).sum().plot(\n",
    "    kind='pie', y='Item_Outlet_Sales', autopct='%1.0f%%',legend=False)\n",
    "plt.show()"
   ]
  },
  {
   "cell_type": "markdown",
   "id": "2c7fe5b2",
   "metadata": {},
   "source": [
    "In all Tiers snacks and Frozen foods are mostly sold which can be earn more profit as sales are high"
   ]
  },
  {
   "cell_type": "markdown",
   "id": "d65ec2eb",
   "metadata": {},
   "source": [
    "# h.Location type wise Sales"
   ]
  },
  {
   "cell_type": "code",
   "execution_count": 26,
   "id": "313fe8db",
   "metadata": {},
   "outputs": [
    {
     "data": {
      "text/plain": [
       "<AxesSubplot:ylabel='Outlet_Location_Type'>"
      ]
     },
     "execution_count": 26,
     "metadata": {},
     "output_type": "execute_result"
    },
    {
     "data": {
      "image/png": "[encoded data removed]",
      "text/plain": [
       "<Figure size 640x480 with 1 Axes>"
      ]
     },
     "metadata": {},
     "output_type": "display_data"
    }
   ],
   "source": [
    "df1.groupby(['Outlet_Location_Type']).sum().plot(\n",
    "    kind='barh', y='Item_Outlet_Sales')"
   ]
  },
  {
   "cell_type": "markdown",
   "id": "6241cb39",
   "metadata": {},
   "source": [
    "Tier 3 has been identified as the most profitable outlet location as sales are high with in those region"
   ]
  },
  {
   "cell_type": "markdown",
   "id": "212565ec",
   "metadata": {},
   "source": [
    "# • Label Encoding"
   ]
  },
  {
   "cell_type": "code",
   "execution_count": 27,
   "id": "3fefc9eb",
   "metadata": {},
   "outputs": [],
   "source": [
    "from sklearn.preprocessing import LabelEncoder\n",
    "le=LabelEncoder()\n",
    "\n",
    "obj=df.select_dtypes(include=\"object\")\n",
    "for i in obj:\n",
    "    df[i] = le.fit_transform(df[i])"
   ]
  },
  {
   "cell_type": "code",
   "execution_count": 28,
   "id": "3a95f69a",
   "metadata": {},
   "outputs": [],
   "source": [
    "obj=df_nan.select_dtypes(include=\"object\")\n",
    "for i in obj:\n",
    "    df_nan[i] = le.fit_transform(df_nan[i])"
   ]
  },
  {
   "cell_type": "markdown",
   "id": "b547b26e",
   "metadata": {},
   "source": [
    "# • Feature selection"
   ]
  },
  {
   "cell_type": "code",
   "execution_count": 29,
   "id": "e9690ec2",
   "metadata": {},
   "outputs": [
    {
     "data": {
      "text/html": [
       "<div>\n",
       "<style scoped>\n",
       "    .dataframe tbody tr th:only-of-type {\n",
       "        vertical-align: middle;\n",
       "    }\n",
       "\n",
       "    .dataframe tbody tr th {\n",
       "        vertical-align: top;\n",
       "    }\n",
       "\n",
       "    .dataframe thead th {\n",
       "        text-align: right;\n",
       "    }\n",
       "</style>\n",
       "<table border=\"1\" class=\"dataframe\">\n",
       "  <thead>\n",
       "    <tr style=\"text-align: right;\">\n",
       "      <th></th>\n",
       "      <th>Item_Identifier</th>\n",
       "      <th>Item_Weight</th>\n",
       "      <th>Item_Fat_Content</th>\n",
       "      <th>Item_Visibility</th>\n",
       "      <th>Item_Type</th>\n",
       "      <th>Item_MRP</th>\n",
       "      <th>Outlet_Identifier</th>\n",
       "      <th>Outlet_Establishment_Year</th>\n",
       "      <th>Outlet_Size</th>\n",
       "      <th>Outlet_Location_Type</th>\n",
       "      <th>Outlet_Type</th>\n",
       "      <th>Item_Outlet_Sales</th>\n",
       "    </tr>\n",
       "  </thead>\n",
       "  <tbody>\n",
       "    <tr>\n",
       "      <th>Item_Identifier</th>\n",
       "      <td>1.000000</td>\n",
       "      <td>0.048366</td>\n",
       "      <td>-0.114660</td>\n",
       "      <td>-0.029442</td>\n",
       "      <td>-0.017973</td>\n",
       "      <td>0.012853</td>\n",
       "      <td>-0.008602</td>\n",
       "      <td>-0.012772</td>\n",
       "      <td>-0.002556</td>\n",
       "      <td>0.003656</td>\n",
       "      <td>-0.001178</td>\n",
       "      <td>0.002869</td>\n",
       "    </tr>\n",
       "    <tr>\n",
       "      <th>Item_Weight</th>\n",
       "      <td>0.048366</td>\n",
       "      <td>1.000000</td>\n",
       "      <td>-0.027166</td>\n",
       "      <td>-0.018409</td>\n",
       "      <td>0.035973</td>\n",
       "      <td>0.026172</td>\n",
       "      <td>-0.007568</td>\n",
       "      <td>-0.012823</td>\n",
       "      <td>-0.013371</td>\n",
       "      <td>0.002929</td>\n",
       "      <td>0.000298</td>\n",
       "      <td>0.013261</td>\n",
       "    </tr>\n",
       "    <tr>\n",
       "      <th>Item_Fat_Content</th>\n",
       "      <td>-0.114660</td>\n",
       "      <td>-0.027166</td>\n",
       "      <td>1.000000</td>\n",
       "      <td>0.049815</td>\n",
       "      <td>-0.139434</td>\n",
       "      <td>0.006063</td>\n",
       "      <td>0.000764</td>\n",
       "      <td>0.003151</td>\n",
       "      <td>-0.001369</td>\n",
       "      <td>-0.001598</td>\n",
       "      <td>0.002199</td>\n",
       "      <td>0.018719</td>\n",
       "    </tr>\n",
       "    <tr>\n",
       "      <th>Item_Visibility</th>\n",
       "      <td>-0.029442</td>\n",
       "      <td>-0.018409</td>\n",
       "      <td>0.049815</td>\n",
       "      <td>1.000000</td>\n",
       "      <td>-0.036094</td>\n",
       "      <td>-0.005861</td>\n",
       "      <td>-0.105722</td>\n",
       "      <td>-0.080598</td>\n",
       "      <td>0.031617</td>\n",
       "      <td>-0.029109</td>\n",
       "      <td>-0.178473</td>\n",
       "      <td>-0.135247</td>\n",
       "    </tr>\n",
       "    <tr>\n",
       "      <th>Item_Type</th>\n",
       "      <td>-0.017973</td>\n",
       "      <td>0.035973</td>\n",
       "      <td>-0.139434</td>\n",
       "      <td>-0.036094</td>\n",
       "      <td>1.000000</td>\n",
       "      <td>0.032651</td>\n",
       "      <td>0.001656</td>\n",
       "      <td>0.004970</td>\n",
       "      <td>-0.000394</td>\n",
       "      <td>0.003084</td>\n",
       "      <td>0.003053</td>\n",
       "      <td>0.017048</td>\n",
       "    </tr>\n",
       "    <tr>\n",
       "      <th>Item_MRP</th>\n",
       "      <td>0.012853</td>\n",
       "      <td>0.026172</td>\n",
       "      <td>0.006063</td>\n",
       "      <td>-0.005861</td>\n",
       "      <td>0.032651</td>\n",
       "      <td>1.000000</td>\n",
       "      <td>0.003319</td>\n",
       "      <td>0.005020</td>\n",
       "      <td>0.001215</td>\n",
       "      <td>0.000232</td>\n",
       "      <td>-0.001975</td>\n",
       "      <td>0.567574</td>\n",
       "    </tr>\n",
       "    <tr>\n",
       "      <th>Outlet_Identifier</th>\n",
       "      <td>-0.008602</td>\n",
       "      <td>-0.007568</td>\n",
       "      <td>0.000764</td>\n",
       "      <td>-0.105722</td>\n",
       "      <td>0.001656</td>\n",
       "      <td>0.003319</td>\n",
       "      <td>1.000000</td>\n",
       "      <td>0.079035</td>\n",
       "      <td>0.423653</td>\n",
       "      <td>-0.716176</td>\n",
       "      <td>0.099873</td>\n",
       "      <td>0.162325</td>\n",
       "    </tr>\n",
       "    <tr>\n",
       "      <th>Outlet_Establishment_Year</th>\n",
       "      <td>-0.012772</td>\n",
       "      <td>-0.012823</td>\n",
       "      <td>0.003151</td>\n",
       "      <td>-0.080598</td>\n",
       "      <td>0.004970</td>\n",
       "      <td>0.005020</td>\n",
       "      <td>0.079035</td>\n",
       "      <td>1.000000</td>\n",
       "      <td>0.428367</td>\n",
       "      <td>-0.089216</td>\n",
       "      <td>-0.122304</td>\n",
       "      <td>-0.049135</td>\n",
       "    </tr>\n",
       "    <tr>\n",
       "      <th>Outlet_Size</th>\n",
       "      <td>-0.002556</td>\n",
       "      <td>-0.013371</td>\n",
       "      <td>-0.001369</td>\n",
       "      <td>0.031617</td>\n",
       "      <td>-0.000394</td>\n",
       "      <td>0.001215</td>\n",
       "      <td>0.423653</td>\n",
       "      <td>0.428367</td>\n",
       "      <td>1.000000</td>\n",
       "      <td>-0.590686</td>\n",
       "      <td>-0.260467</td>\n",
       "      <td>-0.060517</td>\n",
       "    </tr>\n",
       "    <tr>\n",
       "      <th>Outlet_Location_Type</th>\n",
       "      <td>0.003656</td>\n",
       "      <td>0.002929</td>\n",
       "      <td>-0.001598</td>\n",
       "      <td>-0.029109</td>\n",
       "      <td>0.003084</td>\n",
       "      <td>0.000232</td>\n",
       "      <td>-0.716176</td>\n",
       "      <td>-0.089216</td>\n",
       "      <td>-0.590686</td>\n",
       "      <td>1.000000</td>\n",
       "      <td>0.467219</td>\n",
       "      <td>0.089367</td>\n",
       "    </tr>\n",
       "    <tr>\n",
       "      <th>Outlet_Type</th>\n",
       "      <td>-0.001178</td>\n",
       "      <td>0.000298</td>\n",
       "      <td>0.002199</td>\n",
       "      <td>-0.178473</td>\n",
       "      <td>0.003053</td>\n",
       "      <td>-0.001975</td>\n",
       "      <td>0.099873</td>\n",
       "      <td>-0.122304</td>\n",
       "      <td>-0.260467</td>\n",
       "      <td>0.467219</td>\n",
       "      <td>1.000000</td>\n",
       "      <td>0.401522</td>\n",
       "    </tr>\n",
       "    <tr>\n",
       "      <th>Item_Outlet_Sales</th>\n",
       "      <td>0.002869</td>\n",
       "      <td>0.013261</td>\n",
       "      <td>0.018719</td>\n",
       "      <td>-0.135247</td>\n",
       "      <td>0.017048</td>\n",
       "      <td>0.567574</td>\n",
       "      <td>0.162325</td>\n",
       "      <td>-0.049135</td>\n",
       "      <td>-0.060517</td>\n",
       "      <td>0.089367</td>\n",
       "      <td>0.401522</td>\n",
       "      <td>1.000000</td>\n",
       "    </tr>\n",
       "  </tbody>\n",
       "</table>\n",
       "</div>"
      ],
      "text/plain": [
       "                           Item_Identifier  Item_Weight  Item_Fat_Content  \\\n",
       "Item_Identifier                   1.000000     0.048366         -0.114660   \n",
       "Item_Weight                       0.048366     1.000000         -0.027166   \n",
       "Item_Fat_Content                 -0.114660    -0.027166          1.000000   \n",
       "Item_Visibility                  -0.029442    -0.018409          0.049815   \n",
       "Item_Type                        -0.017973     0.035973         -0.139434   \n",
       "Item_MRP                          0.012853     0.026172          0.006063   \n",
       "Outlet_Identifier                -0.008602    -0.007568          0.000764   \n",
       "Outlet_Establishment_Year        -0.012772    -0.012823          0.003151   \n",
       "Outlet_Size                      -0.002556    -0.013371         -0.001369   \n",
       "Outlet_Location_Type              0.003656     0.002929         -0.001598   \n",
       "Outlet_Type                      -0.001178     0.000298          0.002199   \n",
       "Item_Outlet_Sales                 0.002869     0.013261          0.018719   \n",
       "\n",
       "                           Item_Visibility  Item_Type  Item_MRP  \\\n",
       "Item_Identifier                  -0.029442  -0.017973  0.012853   \n",
       "Item_Weight                      -0.018409   0.035973  0.026172   \n",
       "Item_Fat_Content                  0.049815  -0.139434  0.006063   \n",
       "Item_Visibility                   1.000000  -0.036094 -0.005861   \n",
       "Item_Type                        -0.036094   1.000000  0.032651   \n",
       "Item_MRP                         -0.005861   0.032651  1.000000   \n",
       "Outlet_Identifier                -0.105722   0.001656  0.003319   \n",
       "Outlet_Establishment_Year        -0.080598   0.004970  0.005020   \n",
       "Outlet_Size                       0.031617  -0.000394  0.001215   \n",
       "Outlet_Location_Type             -0.029109   0.003084  0.000232   \n",
       "Outlet_Type                      -0.178473   0.003053 -0.001975   \n",
       "Item_Outlet_Sales                -0.135247   0.017048  0.567574   \n",
       "\n",
       "                           Outlet_Identifier  Outlet_Establishment_Year  \\\n",
       "Item_Identifier                    -0.008602                  -0.012772   \n",
       "Item_Weight                        -0.007568                  -0.012823   \n",
       "Item_Fat_Content                    0.000764                   0.003151   \n",
       "Item_Visibility                    -0.105722                  -0.080598   \n",
       "Item_Type                           0.001656                   0.004970   \n",
       "Item_MRP                            0.003319                   0.005020   \n",
       "Outlet_Identifier                   1.000000                   0.079035   \n",
       "Outlet_Establishment_Year           0.079035                   1.000000   \n",
       "Outlet_Size                         0.423653                   0.428367   \n",
       "Outlet_Location_Type               -0.716176                  -0.089216   \n",
       "Outlet_Type                         0.099873                  -0.122304   \n",
       "Item_Outlet_Sales                   0.162325                  -0.049135   \n",
       "\n",
       "                           Outlet_Size  Outlet_Location_Type  Outlet_Type  \\\n",
       "Item_Identifier              -0.002556              0.003656    -0.001178   \n",
       "Item_Weight                  -0.013371              0.002929     0.000298   \n",
       "Item_Fat_Content             -0.001369             -0.001598     0.002199   \n",
       "Item_Visibility               0.031617             -0.029109    -0.178473   \n",
       "Item_Type                    -0.000394              0.003084     0.003053   \n",
       "Item_MRP                      0.001215              0.000232    -0.001975   \n",
       "Outlet_Identifier             0.423653             -0.716176     0.099873   \n",
       "Outlet_Establishment_Year     0.428367             -0.089216    -0.122304   \n",
       "Outlet_Size                   1.000000             -0.590686    -0.260467   \n",
       "Outlet_Location_Type         -0.590686              1.000000     0.467219   \n",
       "Outlet_Type                  -0.260467              0.467219     1.000000   \n",
       "Item_Outlet_Sales            -0.060517              0.089367     0.401522   \n",
       "\n",
       "                           Item_Outlet_Sales  \n",
       "Item_Identifier                     0.002869  \n",
       "Item_Weight                         0.013261  \n",
       "Item_Fat_Content                    0.018719  \n",
       "Item_Visibility                    -0.135247  \n",
       "Item_Type                           0.017048  \n",
       "Item_MRP                            0.567574  \n",
       "Outlet_Identifier                   0.162325  \n",
       "Outlet_Establishment_Year          -0.049135  \n",
       "Outlet_Size                        -0.060517  \n",
       "Outlet_Location_Type                0.089367  \n",
       "Outlet_Type                         0.401522  \n",
       "Item_Outlet_Sales                   1.000000  "
      ]
     },
     "execution_count": 29,
     "metadata": {},
     "output_type": "execute_result"
    }
   ],
   "source": [
    "column_correlation = df.corr()\n",
    "column_correlation"
   ]
  },
  {
   "cell_type": "code",
   "execution_count": 30,
   "id": "09c5f48b",
   "metadata": {},
   "outputs": [
    {
     "data": {
      "image/png": "[encoded data removed]",
      "text/plain": [
       "<Figure size 640x480 with 2 Axes>"
      ]
     },
     "metadata": {},
     "output_type": "display_data"
    }
   ],
   "source": [
    "import seaborn as sns\n",
    "import matplotlib.pyplot as plt\n",
    "sns.heatmap(column_correlation);\n",
    "plt.show()"
   ]
  },
  {
   "cell_type": "code",
   "execution_count": 31,
   "id": "f3c8da20",
   "metadata": {},
   "outputs": [],
   "source": [
    "from sklearn.model_selection import train_test_split"
   ]
  },
  {
   "cell_type": "code",
   "execution_count": 32,
   "id": "d8c40447",
   "metadata": {},
   "outputs": [],
   "source": [
    "from sklearn.preprocessing import MinMaxScaler"
   ]
  },
  {
   "cell_type": "code",
   "execution_count": 33,
   "id": "0cbc8a68",
   "metadata": {},
   "outputs": [],
   "source": [
    "X_train=df[[\"Item_Visibility\",\"Item_MRP\",\"Outlet_Identifier\",\"Outlet_Type\"]]"
   ]
  },
  {
   "cell_type": "code",
   "execution_count": 34,
   "id": "49d69c5f",
   "metadata": {},
   "outputs": [],
   "source": [
    "y_train=df[[\"Item_Outlet_Sales\"]]"
   ]
  },
  {
   "cell_type": "code",
   "execution_count": 35,
   "id": "20807bf4",
   "metadata": {},
   "outputs": [],
   "source": [
    "X_test=df_nan[[\"Item_Visibility\",\"Item_MRP\",\"Outlet_Identifier\",\"Outlet_Type\"]]"
   ]
  },
  {
   "cell_type": "code",
   "execution_count": 36,
   "id": "4830f7e6",
   "metadata": {},
   "outputs": [],
   "source": [
    "y_test=df_nan[[\"Item_Outlet_Sales\"]]"
   ]
  },
  {
   "cell_type": "markdown",
   "id": "695b1bf9",
   "metadata": {},
   "source": [
    "Here y_test has all nan value "
   ]
  },
  {
   "cell_type": "code",
   "execution_count": 37,
   "id": "8a658556",
   "metadata": {},
   "outputs": [],
   "source": [
    "scaler = MinMaxScaler() \n",
    "X_train = scaler.fit_transform(X_train)\n",
    "X_test = scaler.fit_transform(X_test)"
   ]
  },
  {
   "cell_type": "code",
   "execution_count": 38,
   "id": "fee7f9d5",
   "metadata": {},
   "outputs": [],
   "source": [
    "import numpy as np"
   ]
  },
  {
   "cell_type": "markdown",
   "id": "ee6454fa",
   "metadata": {},
   "source": [
    "# Using the random Forest Regressor for imputing the predicted value to the nan values"
   ]
  },
  {
   "cell_type": "markdown",
   "id": "3da90f39",
   "metadata": {},
   "source": [
    "Model Creating"
   ]
  },
  {
   "cell_type": "code",
   "execution_count": 39,
   "id": "02f31fbf",
   "metadata": {},
   "outputs": [],
   "source": [
    "from sklearn.ensemble import RandomForestRegressor"
   ]
  },
  {
   "cell_type": "code",
   "execution_count": 40,
   "id": "56479fa1",
   "metadata": {},
   "outputs": [],
   "source": [
    "RF = RandomForestRegressor(max_depth=6, random_state=42)"
   ]
  },
  {
   "cell_type": "markdown",
   "id": "52d2f463",
   "metadata": {},
   "source": [
    "Fitting the model"
   ]
  },
  {
   "cell_type": "code",
   "execution_count": 41,
   "id": "efa10803",
   "metadata": {},
   "outputs": [],
   "source": [
    "RFR=RF.fit(X_train, y_train)"
   ]
  },
  {
   "cell_type": "code",
   "execution_count": 42,
   "id": "3ff4f8c6",
   "metadata": {},
   "outputs": [],
   "source": [
    "y_pred=RFR.predict(X_test)"
   ]
  },
  {
   "cell_type": "markdown",
   "id": "7222f734",
   "metadata": {},
   "source": [
    "Predicting"
   ]
  },
  {
   "cell_type": "code",
   "execution_count": 43,
   "id": "bac4a6c5",
   "metadata": {},
   "outputs": [
    {
     "data": {
      "text/plain": [
       "array([1649.65300906, 1360.58552574,  557.61119169, ..., 1959.15287759,\n",
       "       3703.69929368, 1293.61867829])"
      ]
     },
     "execution_count": 43,
     "metadata": {},
     "output_type": "execute_result"
    }
   ],
   "source": [
    "y_pred"
   ]
  },
  {
   "cell_type": "code",
   "execution_count": 44,
   "id": "bb9b609e",
   "metadata": {},
   "outputs": [],
   "source": [
    "df_nan=df_nan.drop(columns=[\"Item_Outlet_Sales\"])"
   ]
  },
  {
   "cell_type": "code",
   "execution_count": 45,
   "id": "81025c25",
   "metadata": {},
   "outputs": [],
   "source": [
    "df_nan['Item_Outlet_Sales']=y_pred"
   ]
  },
  {
   "cell_type": "markdown",
   "id": "7c82b33c",
   "metadata": {},
   "source": [
    "Added the target values with predicted values"
   ]
  },
  {
   "cell_type": "code",
   "execution_count": 46,
   "id": "6b050851",
   "metadata": {},
   "outputs": [
    {
     "data": {
      "text/html": [
       "<div>\n",
       "<style scoped>\n",
       "    .dataframe tbody tr th:only-of-type {\n",
       "        vertical-align: middle;\n",
       "    }\n",
       "\n",
       "    .dataframe tbody tr th {\n",
       "        vertical-align: top;\n",
       "    }\n",
       "\n",
       "    .dataframe thead th {\n",
       "        text-align: right;\n",
       "    }\n",
       "</style>\n",
       "<table border=\"1\" class=\"dataframe\">\n",
       "  <thead>\n",
       "    <tr style=\"text-align: right;\">\n",
       "      <th></th>\n",
       "      <th>Item_Identifier</th>\n",
       "      <th>Item_Weight</th>\n",
       "      <th>Item_Fat_Content</th>\n",
       "      <th>Item_Visibility</th>\n",
       "      <th>Item_Type</th>\n",
       "      <th>Item_MRP</th>\n",
       "      <th>Outlet_Identifier</th>\n",
       "      <th>Outlet_Establishment_Year</th>\n",
       "      <th>Outlet_Size</th>\n",
       "      <th>Outlet_Location_Type</th>\n",
       "      <th>Outlet_Type</th>\n",
       "      <th>Item_Outlet_Sales</th>\n",
       "    </tr>\n",
       "  </thead>\n",
       "  <tbody>\n",
       "    <tr>\n",
       "      <th>8523</th>\n",
       "      <td>1103</td>\n",
       "      <td>20.750</td>\n",
       "      <td>0</td>\n",
       "      <td>0.007565</td>\n",
       "      <td>13</td>\n",
       "      <td>107.8622</td>\n",
       "      <td>9</td>\n",
       "      <td>1999</td>\n",
       "      <td>1</td>\n",
       "      <td>0</td>\n",
       "      <td>1</td>\n",
       "      <td>1649.653009</td>\n",
       "    </tr>\n",
       "    <tr>\n",
       "      <th>8524</th>\n",
       "      <td>1067</td>\n",
       "      <td>8.300</td>\n",
       "      <td>1</td>\n",
       "      <td>0.038428</td>\n",
       "      <td>4</td>\n",
       "      <td>87.3198</td>\n",
       "      <td>2</td>\n",
       "      <td>2007</td>\n",
       "      <td>2</td>\n",
       "      <td>1</td>\n",
       "      <td>1</td>\n",
       "      <td>1360.585526</td>\n",
       "    </tr>\n",
       "    <tr>\n",
       "      <th>8525</th>\n",
       "      <td>1406</td>\n",
       "      <td>14.600</td>\n",
       "      <td>0</td>\n",
       "      <td>0.099575</td>\n",
       "      <td>11</td>\n",
       "      <td>241.7538</td>\n",
       "      <td>0</td>\n",
       "      <td>1998</td>\n",
       "      <td>1</td>\n",
       "      <td>2</td>\n",
       "      <td>0</td>\n",
       "      <td>557.611192</td>\n",
       "    </tr>\n",
       "    <tr>\n",
       "      <th>8526</th>\n",
       "      <td>809</td>\n",
       "      <td>7.315</td>\n",
       "      <td>0</td>\n",
       "      <td>0.015388</td>\n",
       "      <td>13</td>\n",
       "      <td>155.0340</td>\n",
       "      <td>2</td>\n",
       "      <td>2007</td>\n",
       "      <td>2</td>\n",
       "      <td>1</td>\n",
       "      <td>1</td>\n",
       "      <td>2470.650362</td>\n",
       "    </tr>\n",
       "    <tr>\n",
       "      <th>8527</th>\n",
       "      <td>1184</td>\n",
       "      <td>13.600</td>\n",
       "      <td>1</td>\n",
       "      <td>0.118599</td>\n",
       "      <td>4</td>\n",
       "      <td>234.2300</td>\n",
       "      <td>5</td>\n",
       "      <td>1985</td>\n",
       "      <td>1</td>\n",
       "      <td>2</td>\n",
       "      <td>3</td>\n",
       "      <td>6222.090618</td>\n",
       "    </tr>\n",
       "  </tbody>\n",
       "</table>\n",
       "</div>"
      ],
      "text/plain": [
       "      Item_Identifier  Item_Weight  Item_Fat_Content  Item_Visibility  \\\n",
       "8523             1103       20.750                 0         0.007565   \n",
       "8524             1067        8.300                 1         0.038428   \n",
       "8525             1406       14.600                 0         0.099575   \n",
       "8526              809        7.315                 0         0.015388   \n",
       "8527             1184       13.600                 1         0.118599   \n",
       "\n",
       "      Item_Type  Item_MRP  Outlet_Identifier  Outlet_Establishment_Year  \\\n",
       "8523         13  107.8622                  9                       1999   \n",
       "8524          4   87.3198                  2                       2007   \n",
       "8525         11  241.7538                  0                       1998   \n",
       "8526         13  155.0340                  2                       2007   \n",
       "8527          4  234.2300                  5                       1985   \n",
       "\n",
       "      Outlet_Size  Outlet_Location_Type  Outlet_Type  Item_Outlet_Sales  \n",
       "8523            1                     0            1        1649.653009  \n",
       "8524            2                     1            1        1360.585526  \n",
       "8525            1                     2            0         557.611192  \n",
       "8526            2                     1            1        2470.650362  \n",
       "8527            1                     2            3        6222.090618  "
      ]
     },
     "execution_count": 46,
     "metadata": {},
     "output_type": "execute_result"
    }
   ],
   "source": [
    "df_nan.head()"
   ]
  },
  {
   "cell_type": "code",
   "execution_count": 47,
   "id": "9daffc06",
   "metadata": {},
   "outputs": [],
   "source": [
    "df = df.append(df_nan)"
   ]
  },
  {
   "cell_type": "code",
   "execution_count": 48,
   "id": "176bc1f8",
   "metadata": {},
   "outputs": [
    {
     "data": {
      "text/html": [
       "<div>\n",
       "<style scoped>\n",
       "    .dataframe tbody tr th:only-of-type {\n",
       "        vertical-align: middle;\n",
       "    }\n",
       "\n",
       "    .dataframe tbody tr th {\n",
       "        vertical-align: top;\n",
       "    }\n",
       "\n",
       "    .dataframe thead th {\n",
       "        text-align: right;\n",
       "    }\n",
       "</style>\n",
       "<table border=\"1\" class=\"dataframe\">\n",
       "  <thead>\n",
       "    <tr style=\"text-align: right;\">\n",
       "      <th></th>\n",
       "      <th>Item_Identifier</th>\n",
       "      <th>Item_Weight</th>\n",
       "      <th>Item_Fat_Content</th>\n",
       "      <th>Item_Visibility</th>\n",
       "      <th>Item_Type</th>\n",
       "      <th>Item_MRP</th>\n",
       "      <th>Outlet_Identifier</th>\n",
       "      <th>Outlet_Establishment_Year</th>\n",
       "      <th>Outlet_Size</th>\n",
       "      <th>Outlet_Location_Type</th>\n",
       "      <th>Outlet_Type</th>\n",
       "      <th>Item_Outlet_Sales</th>\n",
       "    </tr>\n",
       "  </thead>\n",
       "  <tbody>\n",
       "    <tr>\n",
       "      <th>0</th>\n",
       "      <td>156</td>\n",
       "      <td>9.30</td>\n",
       "      <td>0</td>\n",
       "      <td>0.016047</td>\n",
       "      <td>4</td>\n",
       "      <td>249.8092</td>\n",
       "      <td>9</td>\n",
       "      <td>1999</td>\n",
       "      <td>1</td>\n",
       "      <td>0</td>\n",
       "      <td>1</td>\n",
       "      <td>3735.138000</td>\n",
       "    </tr>\n",
       "    <tr>\n",
       "      <th>1</th>\n",
       "      <td>8</td>\n",
       "      <td>5.92</td>\n",
       "      <td>1</td>\n",
       "      <td>0.019278</td>\n",
       "      <td>14</td>\n",
       "      <td>48.2692</td>\n",
       "      <td>3</td>\n",
       "      <td>2009</td>\n",
       "      <td>1</td>\n",
       "      <td>2</td>\n",
       "      <td>2</td>\n",
       "      <td>443.422800</td>\n",
       "    </tr>\n",
       "    <tr>\n",
       "      <th>2</th>\n",
       "      <td>662</td>\n",
       "      <td>17.50</td>\n",
       "      <td>0</td>\n",
       "      <td>0.016760</td>\n",
       "      <td>10</td>\n",
       "      <td>141.6180</td>\n",
       "      <td>9</td>\n",
       "      <td>1999</td>\n",
       "      <td>1</td>\n",
       "      <td>0</td>\n",
       "      <td>1</td>\n",
       "      <td>2097.270000</td>\n",
       "    </tr>\n",
       "    <tr>\n",
       "      <th>3</th>\n",
       "      <td>1121</td>\n",
       "      <td>19.20</td>\n",
       "      <td>1</td>\n",
       "      <td>0.074402</td>\n",
       "      <td>6</td>\n",
       "      <td>182.0950</td>\n",
       "      <td>0</td>\n",
       "      <td>1998</td>\n",
       "      <td>1</td>\n",
       "      <td>2</td>\n",
       "      <td>0</td>\n",
       "      <td>732.380000</td>\n",
       "    </tr>\n",
       "    <tr>\n",
       "      <th>4</th>\n",
       "      <td>1297</td>\n",
       "      <td>8.93</td>\n",
       "      <td>0</td>\n",
       "      <td>0.064299</td>\n",
       "      <td>9</td>\n",
       "      <td>53.8614</td>\n",
       "      <td>1</td>\n",
       "      <td>1987</td>\n",
       "      <td>0</td>\n",
       "      <td>2</td>\n",
       "      <td>1</td>\n",
       "      <td>994.705200</td>\n",
       "    </tr>\n",
       "    <tr>\n",
       "      <th>...</th>\n",
       "      <td>...</td>\n",
       "      <td>...</td>\n",
       "      <td>...</td>\n",
       "      <td>...</td>\n",
       "      <td>...</td>\n",
       "      <td>...</td>\n",
       "      <td>...</td>\n",
       "      <td>...</td>\n",
       "      <td>...</td>\n",
       "      <td>...</td>\n",
       "      <td>...</td>\n",
       "      <td>...</td>\n",
       "    </tr>\n",
       "    <tr>\n",
       "      <th>14199</th>\n",
       "      <td>231</td>\n",
       "      <td>10.50</td>\n",
       "      <td>1</td>\n",
       "      <td>0.013496</td>\n",
       "      <td>13</td>\n",
       "      <td>141.3154</td>\n",
       "      <td>8</td>\n",
       "      <td>1997</td>\n",
       "      <td>2</td>\n",
       "      <td>0</td>\n",
       "      <td>1</td>\n",
       "      <td>2108.041431</td>\n",
       "    </tr>\n",
       "    <tr>\n",
       "      <th>14200</th>\n",
       "      <td>306</td>\n",
       "      <td>7.60</td>\n",
       "      <td>1</td>\n",
       "      <td>0.142991</td>\n",
       "      <td>15</td>\n",
       "      <td>169.1448</td>\n",
       "      <td>3</td>\n",
       "      <td>2009</td>\n",
       "      <td>1</td>\n",
       "      <td>2</td>\n",
       "      <td>2</td>\n",
       "      <td>2640.173643</td>\n",
       "    </tr>\n",
       "    <tr>\n",
       "      <th>14201</th>\n",
       "      <td>1412</td>\n",
       "      <td>10.00</td>\n",
       "      <td>0</td>\n",
       "      <td>0.073529</td>\n",
       "      <td>8</td>\n",
       "      <td>118.7440</td>\n",
       "      <td>7</td>\n",
       "      <td>2002</td>\n",
       "      <td>2</td>\n",
       "      <td>1</td>\n",
       "      <td>1</td>\n",
       "      <td>1959.152878</td>\n",
       "    </tr>\n",
       "    <tr>\n",
       "      <th>14202</th>\n",
       "      <td>517</td>\n",
       "      <td>15.30</td>\n",
       "      <td>1</td>\n",
       "      <td>0.064709</td>\n",
       "      <td>3</td>\n",
       "      <td>214.6218</td>\n",
       "      <td>2</td>\n",
       "      <td>2007</td>\n",
       "      <td>2</td>\n",
       "      <td>1</td>\n",
       "      <td>1</td>\n",
       "      <td>3703.699294</td>\n",
       "    </tr>\n",
       "    <tr>\n",
       "      <th>14203</th>\n",
       "      <td>987</td>\n",
       "      <td>9.50</td>\n",
       "      <td>1</td>\n",
       "      <td>0.104720</td>\n",
       "      <td>3</td>\n",
       "      <td>79.7960</td>\n",
       "      <td>7</td>\n",
       "      <td>2002</td>\n",
       "      <td>2</td>\n",
       "      <td>1</td>\n",
       "      <td>1</td>\n",
       "      <td>1293.618678</td>\n",
       "    </tr>\n",
       "  </tbody>\n",
       "</table>\n",
       "<p>14204 rows × 12 columns</p>\n",
       "</div>"
      ],
      "text/plain": [
       "       Item_Identifier  Item_Weight  Item_Fat_Content  Item_Visibility  \\\n",
       "0                  156         9.30                 0         0.016047   \n",
       "1                    8         5.92                 1         0.019278   \n",
       "2                  662        17.50                 0         0.016760   \n",
       "3                 1121        19.20                 1         0.074402   \n",
       "4                 1297         8.93                 0         0.064299   \n",
       "...                ...          ...               ...              ...   \n",
       "14199              231        10.50                 1         0.013496   \n",
       "14200              306         7.60                 1         0.142991   \n",
       "14201             1412        10.00                 0         0.073529   \n",
       "14202              517        15.30                 1         0.064709   \n",
       "14203              987         9.50                 1         0.104720   \n",
       "\n",
       "       Item_Type  Item_MRP  Outlet_Identifier  Outlet_Establishment_Year  \\\n",
       "0              4  249.8092                  9                       1999   \n",
       "1             14   48.2692                  3                       2009   \n",
       "2             10  141.6180                  9                       1999   \n",
       "3              6  182.0950                  0                       1998   \n",
       "4              9   53.8614                  1                       1987   \n",
       "...          ...       ...                ...                        ...   \n",
       "14199         13  141.3154                  8                       1997   \n",
       "14200         15  169.1448                  3                       2009   \n",
       "14201          8  118.7440                  7                       2002   \n",
       "14202          3  214.6218                  2                       2007   \n",
       "14203          3   79.7960                  7                       2002   \n",
       "\n",
       "       Outlet_Size  Outlet_Location_Type  Outlet_Type  Item_Outlet_Sales  \n",
       "0                1                     0            1        3735.138000  \n",
       "1                1                     2            2         443.422800  \n",
       "2                1                     0            1        2097.270000  \n",
       "3                1                     2            0         732.380000  \n",
       "4                0                     2            1         994.705200  \n",
       "...            ...                   ...          ...                ...  \n",
       "14199            2                     0            1        2108.041431  \n",
       "14200            1                     2            2        2640.173643  \n",
       "14201            2                     1            1        1959.152878  \n",
       "14202            2                     1            1        3703.699294  \n",
       "14203            2                     1            1        1293.618678  \n",
       "\n",
       "[14204 rows x 12 columns]"
      ]
     },
     "execution_count": 48,
     "metadata": {},
     "output_type": "execute_result"
    }
   ],
   "source": [
    "df"
   ]
  },
  {
   "cell_type": "code",
   "execution_count": null,
   "id": "9e36d416",
   "metadata": {},
   "outputs": [],
   "source": []
  },
  {
   "cell_type": "markdown",
   "id": "211be1d9",
   "metadata": {},
   "source": [
    "Dataframe with nan value to the remaining cleaned data"
   ]
  },
  {
   "cell_type": "markdown",
   "id": "6bc4c7b2",
   "metadata": {},
   "source": [
    "# • Feature selection"
   ]
  },
  {
   "cell_type": "code",
   "execution_count": 49,
   "id": "de9adda9",
   "metadata": {},
   "outputs": [
    {
     "data": {
      "text/html": [
       "<div>\n",
       "<style scoped>\n",
       "    .dataframe tbody tr th:only-of-type {\n",
       "        vertical-align: middle;\n",
       "    }\n",
       "\n",
       "    .dataframe tbody tr th {\n",
       "        vertical-align: top;\n",
       "    }\n",
       "\n",
       "    .dataframe thead th {\n",
       "        text-align: right;\n",
       "    }\n",
       "</style>\n",
       "<table border=\"1\" class=\"dataframe\">\n",
       "  <thead>\n",
       "    <tr style=\"text-align: right;\">\n",
       "      <th></th>\n",
       "      <th>Item_Identifier</th>\n",
       "      <th>Item_Weight</th>\n",
       "      <th>Item_Fat_Content</th>\n",
       "      <th>Item_Visibility</th>\n",
       "      <th>Item_Type</th>\n",
       "      <th>Item_MRP</th>\n",
       "      <th>Outlet_Identifier</th>\n",
       "      <th>Outlet_Establishment_Year</th>\n",
       "      <th>Outlet_Size</th>\n",
       "      <th>Outlet_Location_Type</th>\n",
       "      <th>Outlet_Type</th>\n",
       "      <th>Item_Outlet_Sales</th>\n",
       "    </tr>\n",
       "  </thead>\n",
       "  <tbody>\n",
       "    <tr>\n",
       "      <th>Item_Identifier</th>\n",
       "      <td>1.000000</td>\n",
       "      <td>0.050932</td>\n",
       "      <td>-0.111096</td>\n",
       "      <td>-0.040680</td>\n",
       "      <td>-0.012106</td>\n",
       "      <td>0.010745</td>\n",
       "      <td>-0.001135</td>\n",
       "      <td>-0.003020</td>\n",
       "      <td>0.002175</td>\n",
       "      <td>-0.002438</td>\n",
       "      <td>-0.004512</td>\n",
       "      <td>0.004873</td>\n",
       "    </tr>\n",
       "    <tr>\n",
       "      <th>Item_Weight</th>\n",
       "      <td>0.050932</td>\n",
       "      <td>1.000000</td>\n",
       "      <td>-0.033737</td>\n",
       "      <td>-0.020472</td>\n",
       "      <td>0.031884</td>\n",
       "      <td>0.035751</td>\n",
       "      <td>0.003002</td>\n",
       "      <td>0.000247</td>\n",
       "      <td>0.000944</td>\n",
       "      <td>-0.001719</td>\n",
       "      <td>0.001913</td>\n",
       "      <td>0.023009</td>\n",
       "    </tr>\n",
       "    <tr>\n",
       "      <th>Item_Fat_Content</th>\n",
       "      <td>-0.111096</td>\n",
       "      <td>-0.033737</td>\n",
       "      <td>1.000000</td>\n",
       "      <td>0.048315</td>\n",
       "      <td>-0.147733</td>\n",
       "      <td>-0.004019</td>\n",
       "      <td>-0.001095</td>\n",
       "      <td>0.000137</td>\n",
       "      <td>-0.000827</td>\n",
       "      <td>0.001373</td>\n",
       "      <td>-0.000228</td>\n",
       "      <td>0.004634</td>\n",
       "    </tr>\n",
       "    <tr>\n",
       "      <th>Item_Visibility</th>\n",
       "      <td>-0.040680</td>\n",
       "      <td>-0.020472</td>\n",
       "      <td>0.048315</td>\n",
       "      <td>1.000000</td>\n",
       "      <td>-0.037821</td>\n",
       "      <td>-0.009144</td>\n",
       "      <td>-0.108731</td>\n",
       "      <td>-0.090833</td>\n",
       "      <td>0.026808</td>\n",
       "      <td>-0.020550</td>\n",
       "      <td>-0.172744</td>\n",
       "      <td>-0.143209</td>\n",
       "    </tr>\n",
       "    <tr>\n",
       "      <th>Item_Type</th>\n",
       "      <td>-0.012106</td>\n",
       "      <td>0.031884</td>\n",
       "      <td>-0.147733</td>\n",
       "      <td>-0.037821</td>\n",
       "      <td>1.000000</td>\n",
       "      <td>0.043948</td>\n",
       "      <td>0.001126</td>\n",
       "      <td>0.003061</td>\n",
       "      <td>-0.001080</td>\n",
       "      <td>0.002083</td>\n",
       "      <td>0.004305</td>\n",
       "      <td>0.031872</td>\n",
       "    </tr>\n",
       "    <tr>\n",
       "      <th>Item_MRP</th>\n",
       "      <td>0.010745</td>\n",
       "      <td>0.035751</td>\n",
       "      <td>-0.004019</td>\n",
       "      <td>-0.009144</td>\n",
       "      <td>0.043948</td>\n",
       "      <td>1.000000</td>\n",
       "      <td>-0.000555</td>\n",
       "      <td>0.000141</td>\n",
       "      <td>-0.001305</td>\n",
       "      <td>0.000838</td>\n",
       "      <td>0.000136</td>\n",
       "      <td>0.617571</td>\n",
       "    </tr>\n",
       "    <tr>\n",
       "      <th>Outlet_Identifier</th>\n",
       "      <td>-0.001135</td>\n",
       "      <td>0.003002</td>\n",
       "      <td>-0.001095</td>\n",
       "      <td>-0.108731</td>\n",
       "      <td>0.001126</td>\n",
       "      <td>-0.000555</td>\n",
       "      <td>1.000000</td>\n",
       "      <td>0.079047</td>\n",
       "      <td>0.423623</td>\n",
       "      <td>-0.716151</td>\n",
       "      <td>0.099899</td>\n",
       "      <td>0.172567</td>\n",
       "    </tr>\n",
       "    <tr>\n",
       "      <th>Outlet_Establishment_Year</th>\n",
       "      <td>-0.003020</td>\n",
       "      <td>0.000247</td>\n",
       "      <td>0.000137</td>\n",
       "      <td>-0.090833</td>\n",
       "      <td>0.003061</td>\n",
       "      <td>0.000141</td>\n",
       "      <td>0.079047</td>\n",
       "      <td>1.000000</td>\n",
       "      <td>0.428387</td>\n",
       "      <td>-0.089328</td>\n",
       "      <td>-0.122519</td>\n",
       "      <td>-0.052874</td>\n",
       "    </tr>\n",
       "    <tr>\n",
       "      <th>Outlet_Size</th>\n",
       "      <td>0.002175</td>\n",
       "      <td>0.000944</td>\n",
       "      <td>-0.000827</td>\n",
       "      <td>0.026808</td>\n",
       "      <td>-0.001080</td>\n",
       "      <td>-0.001305</td>\n",
       "      <td>0.423623</td>\n",
       "      <td>0.428387</td>\n",
       "      <td>1.000000</td>\n",
       "      <td>-0.590677</td>\n",
       "      <td>-0.260496</td>\n",
       "      <td>-0.071176</td>\n",
       "    </tr>\n",
       "    <tr>\n",
       "      <th>Outlet_Location_Type</th>\n",
       "      <td>-0.002438</td>\n",
       "      <td>-0.001719</td>\n",
       "      <td>0.001373</td>\n",
       "      <td>-0.020550</td>\n",
       "      <td>0.002083</td>\n",
       "      <td>0.000838</td>\n",
       "      <td>-0.716151</td>\n",
       "      <td>-0.089328</td>\n",
       "      <td>-0.590677</td>\n",
       "      <td>1.000000</td>\n",
       "      <td>0.467251</td>\n",
       "      <td>0.105107</td>\n",
       "    </tr>\n",
       "    <tr>\n",
       "      <th>Outlet_Type</th>\n",
       "      <td>-0.004512</td>\n",
       "      <td>0.001913</td>\n",
       "      <td>-0.000228</td>\n",
       "      <td>-0.172744</td>\n",
       "      <td>0.004305</td>\n",
       "      <td>0.000136</td>\n",
       "      <td>0.099899</td>\n",
       "      <td>-0.122519</td>\n",
       "      <td>-0.260496</td>\n",
       "      <td>0.467251</td>\n",
       "      <td>1.000000</td>\n",
       "      <td>0.445262</td>\n",
       "    </tr>\n",
       "    <tr>\n",
       "      <th>Item_Outlet_Sales</th>\n",
       "      <td>0.004873</td>\n",
       "      <td>0.023009</td>\n",
       "      <td>0.004634</td>\n",
       "      <td>-0.143209</td>\n",
       "      <td>0.031872</td>\n",
       "      <td>0.617571</td>\n",
       "      <td>0.172567</td>\n",
       "      <td>-0.052874</td>\n",
       "      <td>-0.071176</td>\n",
       "      <td>0.105107</td>\n",
       "      <td>0.445262</td>\n",
       "      <td>1.000000</td>\n",
       "    </tr>\n",
       "  </tbody>\n",
       "</table>\n",
       "</div>"
      ],
      "text/plain": [
       "                           Item_Identifier  Item_Weight  Item_Fat_Content  \\\n",
       "Item_Identifier                   1.000000     0.050932         -0.111096   \n",
       "Item_Weight                       0.050932     1.000000         -0.033737   \n",
       "Item_Fat_Content                 -0.111096    -0.033737          1.000000   \n",
       "Item_Visibility                  -0.040680    -0.020472          0.048315   \n",
       "Item_Type                        -0.012106     0.031884         -0.147733   \n",
       "Item_MRP                          0.010745     0.035751         -0.004019   \n",
       "Outlet_Identifier                -0.001135     0.003002         -0.001095   \n",
       "Outlet_Establishment_Year        -0.003020     0.000247          0.000137   \n",
       "Outlet_Size                       0.002175     0.000944         -0.000827   \n",
       "Outlet_Location_Type             -0.002438    -0.001719          0.001373   \n",
       "Outlet_Type                      -0.004512     0.001913         -0.000228   \n",
       "Item_Outlet_Sales                 0.004873     0.023009          0.004634   \n",
       "\n",
       "                           Item_Visibility  Item_Type  Item_MRP  \\\n",
       "Item_Identifier                  -0.040680  -0.012106  0.010745   \n",
       "Item_Weight                      -0.020472   0.031884  0.035751   \n",
       "Item_Fat_Content                  0.048315  -0.147733 -0.004019   \n",
       "Item_Visibility                   1.000000  -0.037821 -0.009144   \n",
       "Item_Type                        -0.037821   1.000000  0.043948   \n",
       "Item_MRP                         -0.009144   0.043948  1.000000   \n",
       "Outlet_Identifier                -0.108731   0.001126 -0.000555   \n",
       "Outlet_Establishment_Year        -0.090833   0.003061  0.000141   \n",
       "Outlet_Size                       0.026808  -0.001080 -0.001305   \n",
       "Outlet_Location_Type             -0.020550   0.002083  0.000838   \n",
       "Outlet_Type                      -0.172744   0.004305  0.000136   \n",
       "Item_Outlet_Sales                -0.143209   0.031872  0.617571   \n",
       "\n",
       "                           Outlet_Identifier  Outlet_Establishment_Year  \\\n",
       "Item_Identifier                    -0.001135                  -0.003020   \n",
       "Item_Weight                         0.003002                   0.000247   \n",
       "Item_Fat_Content                   -0.001095                   0.000137   \n",
       "Item_Visibility                    -0.108731                  -0.090833   \n",
       "Item_Type                           0.001126                   0.003061   \n",
       "Item_MRP                           -0.000555                   0.000141   \n",
       "Outlet_Identifier                   1.000000                   0.079047   \n",
       "Outlet_Establishment_Year           0.079047                   1.000000   \n",
       "Outlet_Size                         0.423623                   0.428387   \n",
       "Outlet_Location_Type               -0.716151                  -0.089328   \n",
       "Outlet_Type                         0.099899                  -0.122519   \n",
       "Item_Outlet_Sales                   0.172567                  -0.052874   \n",
       "\n",
       "                           Outlet_Size  Outlet_Location_Type  Outlet_Type  \\\n",
       "Item_Identifier               0.002175             -0.002438    -0.004512   \n",
       "Item_Weight                   0.000944             -0.001719     0.001913   \n",
       "Item_Fat_Content             -0.000827              0.001373    -0.000228   \n",
       "Item_Visibility               0.026808             -0.020550    -0.172744   \n",
       "Item_Type                    -0.001080              0.002083     0.004305   \n",
       "Item_MRP                     -0.001305              0.000838     0.000136   \n",
       "Outlet_Identifier             0.423623             -0.716151     0.099899   \n",
       "Outlet_Establishment_Year     0.428387             -0.089328    -0.122519   \n",
       "Outlet_Size                   1.000000             -0.590677    -0.260496   \n",
       "Outlet_Location_Type         -0.590677              1.000000     0.467251   \n",
       "Outlet_Type                  -0.260496              0.467251     1.000000   \n",
       "Item_Outlet_Sales            -0.071176              0.105107     0.445262   \n",
       "\n",
       "                           Item_Outlet_Sales  \n",
       "Item_Identifier                     0.004873  \n",
       "Item_Weight                         0.023009  \n",
       "Item_Fat_Content                    0.004634  \n",
       "Item_Visibility                    -0.143209  \n",
       "Item_Type                           0.031872  \n",
       "Item_MRP                            0.617571  \n",
       "Outlet_Identifier                   0.172567  \n",
       "Outlet_Establishment_Year          -0.052874  \n",
       "Outlet_Size                        -0.071176  \n",
       "Outlet_Location_Type                0.105107  \n",
       "Outlet_Type                         0.445262  \n",
       "Item_Outlet_Sales                   1.000000  "
      ]
     },
     "execution_count": 49,
     "metadata": {},
     "output_type": "execute_result"
    }
   ],
   "source": [
    "column_correlation = df.corr()\n",
    "column_correlation"
   ]
  },
  {
   "cell_type": "code",
   "execution_count": 50,
   "id": "508081f6",
   "metadata": {},
   "outputs": [
    {
     "data": {
      "image/png": "[encoded data removed]",
      "text/plain": [
       "<Figure size 640x480 with 2 Axes>"
      ]
     },
     "metadata": {},
     "output_type": "display_data"
    }
   ],
   "source": [
    "import seaborn as sns\n",
    "import matplotlib.pyplot as plt\n",
    "sns.heatmap(column_correlation);\n",
    "plt.show()"
   ]
  },
  {
   "cell_type": "code",
   "execution_count": 51,
   "id": "30cf8636",
   "metadata": {},
   "outputs": [],
   "source": [
    "X=df[[\"Item_Visibility\",\"Item_MRP\",\"Outlet_Identifier\",\"Outlet_Location_Type\",\"Outlet_Type\"]]"
   ]
  },
  {
   "cell_type": "code",
   "execution_count": 52,
   "id": "bb56e21f",
   "metadata": {},
   "outputs": [],
   "source": [
    "y=df[[\"Item_Outlet_Sales\"]]\n"
   ]
  },
  {
   "cell_type": "markdown",
   "id": "1c04db9b",
   "metadata": {},
   "source": [
    "# •  Scaling and Spliting the data "
   ]
  },
  {
   "cell_type": "code",
   "execution_count": 53,
   "id": "2081ae3a",
   "metadata": {},
   "outputs": [],
   "source": [
    "from sklearn.model_selection import train_test_split"
   ]
  },
  {
   "cell_type": "code",
   "execution_count": 54,
   "id": "d8d010b7",
   "metadata": {},
   "outputs": [],
   "source": [
    "X_train,X_test,y_train,y_test = train_test_split(X,y,test_size=0.25,random_state = 42)"
   ]
  },
  {
   "cell_type": "code",
   "execution_count": 55,
   "id": "12900212",
   "metadata": {},
   "outputs": [
    {
     "data": {
      "text/plain": [
       "(10653, 5)"
      ]
     },
     "execution_count": 55,
     "metadata": {},
     "output_type": "execute_result"
    }
   ],
   "source": [
    "X_train.shape"
   ]
  },
  {
   "cell_type": "code",
   "execution_count": 56,
   "id": "021e5bd6",
   "metadata": {},
   "outputs": [],
   "source": [
    "from sklearn.preprocessing import MinMaxScaler"
   ]
  },
  {
   "cell_type": "code",
   "execution_count": 57,
   "id": "b7e480bd",
   "metadata": {},
   "outputs": [],
   "source": [
    "scaler = MinMaxScaler() \n",
    "X_train = scaler.fit_transform(X_train)\n",
    "X_test = scaler.fit_transform(X_test)"
   ]
  },
  {
   "cell_type": "markdown",
   "id": "d52b1d73",
   "metadata": {},
   "source": [
    "# • Linear Regression Model"
   ]
  },
  {
   "cell_type": "code",
   "execution_count": 58,
   "id": "9a0f3ef5",
   "metadata": {},
   "outputs": [],
   "source": [
    "from sklearn.linear_model import LinearRegression"
   ]
  },
  {
   "cell_type": "markdown",
   "id": "c7e93b4f",
   "metadata": {},
   "source": [
    "Model Creation"
   ]
  },
  {
   "cell_type": "code",
   "execution_count": 59,
   "id": "58476cb0",
   "metadata": {},
   "outputs": [],
   "source": [
    "model = LinearRegression()"
   ]
  },
  {
   "cell_type": "markdown",
   "id": "9022e0d8",
   "metadata": {},
   "source": [
    "Model Fitting"
   ]
  },
  {
   "cell_type": "code",
   "execution_count": 60,
   "id": "2e09c3e5",
   "metadata": {},
   "outputs": [],
   "source": [
    "s1=model.fit(X_train,y_train)"
   ]
  },
  {
   "cell_type": "markdown",
   "id": "1893d2e8",
   "metadata": {},
   "source": [
    "Train Test Score "
   ]
  },
  {
   "cell_type": "code",
   "execution_count": 61,
   "id": "9eb669bb",
   "metadata": {},
   "outputs": [
    {
     "name": "stdout",
     "output_type": "stream",
     "text": [
      "Training score 0.5959693287417309\n",
      "Testing score 0.6074347667177291\n"
     ]
    }
   ],
   "source": [
    "print(\"Training score\",s1.score(X_train,y_train))\n",
    "print(\"Testing score\",s1.score(X_test,y_test))"
   ]
  },
  {
   "cell_type": "markdown",
   "id": "47f18439",
   "metadata": {},
   "source": [
    "Interpretation:In Linear Regression Model 60% data lies on best fit line"
   ]
  },
  {
   "cell_type": "markdown",
   "id": "0ea416d1",
   "metadata": {},
   "source": [
    "# • Decision Tree Regressor"
   ]
  },
  {
   "cell_type": "code",
   "execution_count": 62,
   "id": "c5189eb7",
   "metadata": {},
   "outputs": [],
   "source": [
    "from sklearn.tree import DecisionTreeRegressor "
   ]
  },
  {
   "cell_type": "markdown",
   "id": "d487c00d",
   "metadata": {},
   "source": [
    "Model Creation\n"
   ]
  },
  {
   "cell_type": "code",
   "execution_count": 63,
   "id": "ae0cf5ac",
   "metadata": {},
   "outputs": [],
   "source": [
    "DT = DecisionTreeRegressor(random_state = 42) "
   ]
  },
  {
   "cell_type": "markdown",
   "id": "8b94398c",
   "metadata": {},
   "source": [
    "Model Fitting\n"
   ]
  },
  {
   "cell_type": "code",
   "execution_count": 64,
   "id": "8ad90c50",
   "metadata": {},
   "outputs": [],
   "source": [
    "DTR=DT.fit(X_train,y_train)"
   ]
  },
  {
   "cell_type": "markdown",
   "id": "6a04e91a",
   "metadata": {},
   "source": [
    "Train Test Score "
   ]
  },
  {
   "cell_type": "code",
   "execution_count": 65,
   "id": "7eeace14",
   "metadata": {},
   "outputs": [
    {
     "name": "stdout",
     "output_type": "stream",
     "text": [
      "Training score 0.9999691147621367\n",
      "Testing score 0.3922879772506932\n"
     ]
    }
   ],
   "source": [
    "print(\"Training score\",DTR.score(X_train,y_train))\n",
    "print(\"Testing score\",DTR.score(X_test,y_test))"
   ]
  },
  {
   "cell_type": "markdown",
   "id": "28abeea4",
   "metadata": {},
   "source": [
    "Interpretation:- Decision Tree Regressor model is Overfitted and not performing well"
   ]
  },
  {
   "cell_type": "markdown",
   "id": "9c27ea77",
   "metadata": {},
   "source": [
    "# • Random Forest Regressor"
   ]
  },
  {
   "cell_type": "code",
   "execution_count": 66,
   "id": "b11a3d9d",
   "metadata": {},
   "outputs": [],
   "source": [
    "from sklearn.ensemble import RandomForestRegressor\n"
   ]
  },
  {
   "cell_type": "markdown",
   "id": "d3dd808d",
   "metadata": {},
   "source": [
    "Model Creation\n"
   ]
  },
  {
   "cell_type": "code",
   "execution_count": 67,
   "id": "e2b5631d",
   "metadata": {},
   "outputs": [],
   "source": [
    "RF = RandomForestRegressor(max_depth=6, random_state=42)"
   ]
  },
  {
   "cell_type": "markdown",
   "id": "bd57f741",
   "metadata": {},
   "source": [
    "Fitting the model"
   ]
  },
  {
   "cell_type": "code",
   "execution_count": 68,
   "id": "6b383294",
   "metadata": {},
   "outputs": [],
   "source": [
    "RFR=RF.fit(X_train, y_train)"
   ]
  },
  {
   "cell_type": "markdown",
   "id": "5f89c089",
   "metadata": {},
   "source": [
    "Train Test Score "
   ]
  },
  {
   "cell_type": "code",
   "execution_count": 69,
   "id": "2afd6442",
   "metadata": {},
   "outputs": [
    {
     "name": "stdout",
     "output_type": "stream",
     "text": [
      "Training score 0.7241146378120875\n",
      "Testing score 0.7261736411363515\n"
     ]
    }
   ],
   "source": [
    "print(\"Training score\",RFR.score(X_train,y_train))\n",
    "print(\"Testing score\",RFR.score(X_test,y_test))"
   ]
  },
  {
   "cell_type": "markdown",
   "id": "3ec904fe",
   "metadata": {},
   "source": [
    "Interpretation:- Random Forest Regressor is performing good with 72% r2-Score"
   ]
  },
  {
   "cell_type": "markdown",
   "id": "51507b7f",
   "metadata": {},
   "source": [
    "# • Bagging With Random Forest"
   ]
  },
  {
   "cell_type": "code",
   "execution_count": 70,
   "id": "ec1fccd4",
   "metadata": {},
   "outputs": [],
   "source": [
    "from sklearn.ensemble import RandomForestRegressor\n",
    "from sklearn.model_selection import KFold\n",
    "from sklearn.model_selection import cross_val_score\n"
   ]
  },
  {
   "cell_type": "markdown",
   "id": "ff809acb",
   "metadata": {},
   "source": [
    "Model Creation\n"
   ]
  },
  {
   "cell_type": "code",
   "execution_count": 71,
   "id": "f80c71cf",
   "metadata": {},
   "outputs": [
    {
     "name": "stdout",
     "output_type": "stream",
     "text": [
      "r2: 0.635 (0.165)\n"
     ]
    }
   ],
   "source": [
    "m=RandomForestRegressor()\n",
    "cv = KFold(n_splits=10)\n",
    "n_scores = cross_val_score(model, X, y, scoring='r2', cv=cv, n_jobs=-1, error_score='raise')\n",
    "\n",
    "# report performance\n",
    "print('r2: %.3f (%.3f)' % (np.mean(n_scores), np.std(n_scores)))"
   ]
  },
  {
   "cell_type": "markdown",
   "id": "8a8b0d9d",
   "metadata": {},
   "source": [
    "Model Fitting\n"
   ]
  },
  {
   "cell_type": "code",
   "execution_count": 72,
   "id": "ee16bf09",
   "metadata": {},
   "outputs": [],
   "source": [
    "model_rf=m.fit(X_train,y_train)"
   ]
  },
  {
   "cell_type": "markdown",
   "id": "c4fced3c",
   "metadata": {},
   "source": [
    "Train Test Score "
   ]
  },
  {
   "cell_type": "code",
   "execution_count": 73,
   "id": "de7bd9f0",
   "metadata": {},
   "outputs": [
    {
     "name": "stdout",
     "output_type": "stream",
     "text": [
      "Training score 0.9544716800593525\n",
      "Testing score 0.689109896022958\n"
     ]
    }
   ],
   "source": [
    "print(\"Training score\",model_rf.score(X_train,y_train))\n",
    "print(\"Testing score\",model_rf.score(X_test,y_test))"
   ]
  },
  {
   "cell_type": "markdown",
   "id": "ff2010d9",
   "metadata": {},
   "source": [
    "Interpretation:- Bagging With Random Forest model is Overfitted and not performing good"
   ]
  },
  {
   "cell_type": "markdown",
   "id": "c0386ac8",
   "metadata": {},
   "source": [
    "# • Boosting using Adaboost"
   ]
  },
  {
   "cell_type": "code",
   "execution_count": 74,
   "id": "c3047597",
   "metadata": {},
   "outputs": [],
   "source": [
    "from sklearn.ensemble import AdaBoostRegressor"
   ]
  },
  {
   "cell_type": "markdown",
   "id": "45490bb8",
   "metadata": {},
   "source": [
    "Model Creation\n"
   ]
  },
  {
   "cell_type": "code",
   "execution_count": 75,
   "id": "4093240a",
   "metadata": {},
   "outputs": [
    {
     "name": "stdout",
     "output_type": "stream",
     "text": [
      "r2: 0.652 (0.173)\n"
     ]
    }
   ],
   "source": [
    "model = AdaBoostRegressor()\n",
    "\n",
    "# evaluate the model\n",
    "cv = KFold(n_splits=10)\n",
    "n_scores = cross_val_score(model, X, y, scoring='r2', cv=cv, n_jobs=-1, error_score='raise')\n",
    "\n",
    "# report performance\n",
    "print('r2: %.3f (%.3f)' % (np.mean(n_scores), np.std(n_scores)))"
   ]
  },
  {
   "cell_type": "markdown",
   "id": "2df8c345",
   "metadata": {},
   "source": [
    "Model Fitting\n"
   ]
  },
  {
   "cell_type": "code",
   "execution_count": 76,
   "id": "061bee19",
   "metadata": {},
   "outputs": [],
   "source": [
    "model_ada=model.fit(X_train,y_train)"
   ]
  },
  {
   "cell_type": "markdown",
   "id": "545b39e3",
   "metadata": {},
   "source": [
    "Train Test Score "
   ]
  },
  {
   "cell_type": "code",
   "execution_count": 77,
   "id": "84d3234b",
   "metadata": {},
   "outputs": [
    {
     "name": "stdout",
     "output_type": "stream",
     "text": [
      "Training score 0.6611641465303406\n",
      "Testing score 0.6630770015206271\n"
     ]
    }
   ],
   "source": [
    "print(\"Training score\",model_ada.score(X_train,y_train))\n",
    "print(\"Testing score\",model_ada.score(X_test,y_test))"
   ]
  },
  {
   "cell_type": "markdown",
   "id": "2728c671",
   "metadata": {},
   "source": [
    "Interpretation:- Boosting model is performing good for train and test "
   ]
  },
  {
   "cell_type": "markdown",
   "id": "6b77d684",
   "metadata": {},
   "source": [
    "# • Stacking"
   ]
  },
  {
   "cell_type": "code",
   "execution_count": 78,
   "id": "71599322",
   "metadata": {},
   "outputs": [],
   "source": [
    "from sklearn.neighbors import KNeighborsRegressor\n",
    "from sklearn.tree import DecisionTreeRegressor\n",
    "from sklearn.svm import SVR\n",
    "from sklearn.ensemble import StackingRegressor"
   ]
  },
  {
   "cell_type": "markdown",
   "id": "bab0625f",
   "metadata": {},
   "source": [
    "Model Creation"
   ]
  },
  {
   "cell_type": "code",
   "execution_count": 79,
   "id": "d595e695",
   "metadata": {},
   "outputs": [],
   "source": [
    "def get_stacking():\n",
    "    #define base models\n",
    "    level0=list()\n",
    "    level0.append((\"knn\",KNeighborsRegressor()))\n",
    "    level0.append((\"DT\",DecisionTreeRegressor()))\n",
    "    level0.append((\"svc\",SVR()))\n",
    "    \n",
    "    # define meta learner model\n",
    "    level1 = LinearRegression()\n",
    "    \n",
    "    # define the stacking ensemble\n",
    "    model = StackingRegressor(estimators=level0, final_estimator=level1, cv=5)\n",
    "    return model"
   ]
  },
  {
   "cell_type": "code",
   "execution_count": 80,
   "id": "d276eaeb",
   "metadata": {},
   "outputs": [
    {
     "name": "stdout",
     "output_type": "stream",
     "text": [
      "R2-Score: 0.709 (0.172)\n"
     ]
    }
   ],
   "source": [
    "model=get_stacking()\n",
    "\n",
    "# evaluate the model\n",
    "cv = KFold(n_splits=5)\n",
    "n_scores = cross_val_score(model, X, y, scoring='r2', cv=cv, n_jobs=-1, error_score='raise')\n",
    "# report performance\n",
    "print('R2-Score: %.3f (%.3f)' % (np.mean(n_scores), np.std(n_scores)))"
   ]
  },
  {
   "cell_type": "markdown",
   "id": "45b443ae",
   "metadata": {},
   "source": [
    "Model Fitting\n"
   ]
  },
  {
   "cell_type": "code",
   "execution_count": 81,
   "id": "44b89aa0",
   "metadata": {},
   "outputs": [],
   "source": [
    "model_dt=model.fit(X_train,y_train)"
   ]
  },
  {
   "cell_type": "markdown",
   "id": "c7b6677b",
   "metadata": {},
   "source": [
    "Train Test Score "
   ]
  },
  {
   "cell_type": "code",
   "execution_count": 82,
   "id": "de24a1ba",
   "metadata": {},
   "outputs": [
    {
     "name": "stdout",
     "output_type": "stream",
     "text": [
      "Training score :  0.7982734592736096\n",
      "Testing score :  0.6871288999122802\n"
     ]
    }
   ],
   "source": [
    "print(\"Training score : \",model_dt.score(X_train,y_train))\n",
    "print(\"Testing score : \",model_dt.score(X_test,y_test))"
   ]
  },
  {
   "cell_type": "markdown",
   "id": "64c158a3",
   "metadata": {},
   "source": [
    "Interpretation:- Stacking has good training score than testing"
   ]
  },
  {
   "cell_type": "markdown",
   "id": "cfb59d99",
   "metadata": {},
   "source": [
    "# Interpretation:- Stacking and Random Forest Regressor is performing good as comparing to others"
   ]
  },
  {
   "cell_type": "markdown",
   "id": "f6f791da",
   "metadata": {},
   "source": [
    "# • Evaluation Metrics"
   ]
  },
  {
   "cell_type": "markdown",
   "id": "8e6e2399",
   "metadata": {},
   "source": [
    "# 1)Random Forest Regressor"
   ]
  },
  {
   "cell_type": "code",
   "execution_count": 83,
   "id": "01caad92",
   "metadata": {},
   "outputs": [],
   "source": [
    "y_pred1 = RFR.predict(X_test)"
   ]
  },
  {
   "cell_type": "code",
   "execution_count": 84,
   "id": "4b561ff5",
   "metadata": {},
   "outputs": [
    {
     "data": {
      "text/plain": [
       "array([3191.57198916, 3113.41043864, 3109.94173408, ..., 4242.02602075,\n",
       "       3382.96157394, 3210.28675382])"
      ]
     },
     "execution_count": 84,
     "metadata": {},
     "output_type": "execute_result"
    }
   ],
   "source": [
    "y_pred1"
   ]
  },
  {
   "cell_type": "code",
   "execution_count": 85,
   "id": "9da9902b",
   "metadata": {},
   "outputs": [
    {
     "name": "stdout",
     "output_type": "stream",
     "text": [
      "MSE:  648463.6287345251 \n",
      "RMSE: 805.272394121719 \n",
      "R2-Score 0.7261736411363515\n"
     ]
    }
   ],
   "source": [
    "from sklearn.metrics import mean_squared_error, r2_score,mean_absolute_error\n",
    "RMSE = mean_squared_error(y_test,y_pred1, squared=False)\n",
    "MSE = mean_squared_error(y_test,y_pred1)\n",
    "r2 = r2_score(y_test, y_pred1)\n",
    "print('MSE: ',MSE, '\\nRMSE:',RMSE,\"\\nR2-Score\",r2)"
   ]
  },
  {
   "cell_type": "markdown",
   "id": "aa7df9ad",
   "metadata": {},
   "source": [
    "# 2)Stacking"
   ]
  },
  {
   "cell_type": "code",
   "execution_count": 86,
   "id": "f68af1e1",
   "metadata": {},
   "outputs": [],
   "source": [
    "y_pred2 = model_dt.predict(X_test)"
   ]
  },
  {
   "cell_type": "code",
   "execution_count": 87,
   "id": "309ecedf",
   "metadata": {},
   "outputs": [
    {
     "name": "stdout",
     "output_type": "stream",
     "text": [
      "MSE:  740927.680340928 \n",
      "RMSE: 860.7715610665399 \n",
      "R2-Score 0.6871288999122802\n"
     ]
    }
   ],
   "source": [
    "from sklearn.metrics import mean_squared_error, r2_score,mean_absolute_error\n",
    "RMSE = mean_squared_error(y_test,y_pred2, squared=False)\n",
    "MSE = mean_squared_error(y_test,y_pred2)\n",
    "r2 = r2_score(y_test, y_pred2)\n",
    "print('MSE: ',MSE, '\\nRMSE:',RMSE,\"\\nR2-Score\",r2)"
   ]
  },
  {
   "cell_type": "code",
   "execution_count": null,
   "id": "5650b6c9",
   "metadata": {},
   "outputs": [],
   "source": []
  },
  {
   "cell_type": "code",
   "execution_count": null,
   "id": "e9366802",
   "metadata": {},
   "outputs": [],
   "source": []
  }
 ],
 "metadata": {
  "kernelspec": {
   "display_name": "Python 3 (ipykernel)",
   "language": "python",
   "name": "python3"
  },
  "language_info": {
   "codemirror_mode": {
    "name": "ipython",
    "version": 3
   },
   "file_extension": ".py",
   "mimetype": "text/x-python",
   "name": "python",
   "nbconvert_exporter": "python",
   "pygments_lexer": "ipython3",
   "version": "3.9.13"
  }
 },
 "nbformat": 4,
 "nbformat_minor": 5
}
